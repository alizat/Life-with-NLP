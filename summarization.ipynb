{
 "cells": [
  {
   "cell_type": "markdown",
   "metadata": {},
   "source": [
    "# Summarization\n",
    "In this notebook, we will demonstrate the NLP task of *summarizing a body of text*.\n",
    "\n",
    "We will be using the CNN/DailyMail dataset that includes full articles and their corresponding summaries."
   ]
  },
  {
   "cell_type": "markdown",
   "metadata": {},
   "source": [
    "## Imports"
   ]
  },
  {
   "cell_type": "code",
   "execution_count": 38,
   "metadata": {},
   "outputs": [],
   "source": [
    "from datasets import load_dataset\n",
    "from transformers import pipeline, set_seed\n",
    "import matplotlib.pyplot as plt\n",
    "import json"
   ]
  },
  {
   "cell_type": "markdown",
   "metadata": {},
   "source": [
    "## Load Data\n",
    "We will get version 3.0.0 of the CNN/DailyMail dataset, observe an example and then see some stats."
   ]
  },
  {
   "cell_type": "code",
   "execution_count": 4,
   "metadata": {},
   "outputs": [
    {
     "data": {
      "application/vnd.jupyter.widget-view+json": {
       "model_id": "2cf86890821e4c0583a7d41690462afd",
       "version_major": 2,
       "version_minor": 0
      },
      "text/plain": [
       "train-00000-of-00003.parquet:   0%|          | 0.00/257M [00:00<?, ?B/s]"
      ]
     },
     "metadata": {},
     "output_type": "display_data"
    },
    {
     "data": {
      "application/vnd.jupyter.widget-view+json": {
       "model_id": "25cad1a03aec46d09f62990a06db55ab",
       "version_major": 2,
       "version_minor": 0
      },
      "text/plain": [
       "train-00001-of-00003.parquet:   0%|          | 0.00/257M [00:00<?, ?B/s]"
      ]
     },
     "metadata": {},
     "output_type": "display_data"
    },
    {
     "data": {
      "application/vnd.jupyter.widget-view+json": {
       "model_id": "7140c0d415554fafa1adcda3092efa98",
       "version_major": 2,
       "version_minor": 0
      },
      "text/plain": [
       "train-00002-of-00003.parquet:   0%|          | 0.00/259M [00:00<?, ?B/s]"
      ]
     },
     "metadata": {},
     "output_type": "display_data"
    },
    {
     "data": {
      "application/vnd.jupyter.widget-view+json": {
       "model_id": "9c268289f60b4adb90988a89a9961446",
       "version_major": 2,
       "version_minor": 0
      },
      "text/plain": [
       "validation-00000-of-00001.parquet:   0%|          | 0.00/34.7M [00:00<?, ?B/s]"
      ]
     },
     "metadata": {},
     "output_type": "display_data"
    },
    {
     "data": {
      "application/vnd.jupyter.widget-view+json": {
       "model_id": "9bccdaac94ee4f838c4f8c12668e2eae",
       "version_major": 2,
       "version_minor": 0
      },
      "text/plain": [
       "test-00000-of-00001.parquet:   0%|          | 0.00/30.0M [00:00<?, ?B/s]"
      ]
     },
     "metadata": {},
     "output_type": "display_data"
    },
    {
     "data": {
      "application/vnd.jupyter.widget-view+json": {
       "model_id": "301e247cfe4f4efea2fbd744907a40f5",
       "version_major": 2,
       "version_minor": 0
      },
      "text/plain": [
       "Generating train split:   0%|          | 0/287113 [00:00<?, ? examples/s]"
      ]
     },
     "metadata": {},
     "output_type": "display_data"
    },
    {
     "data": {
      "application/vnd.jupyter.widget-view+json": {
       "model_id": "c4c5113ae33641fe99697b56b28e37bd",
       "version_major": 2,
       "version_minor": 0
      },
      "text/plain": [
       "Generating validation split:   0%|          | 0/13368 [00:00<?, ? examples/s]"
      ]
     },
     "metadata": {},
     "output_type": "display_data"
    },
    {
     "data": {
      "application/vnd.jupyter.widget-view+json": {
       "model_id": "45965bd9bc7b4bdbba1ebf4506ce0013",
       "version_major": 2,
       "version_minor": 0
      },
      "text/plain": [
       "Generating test split:   0%|          | 0/11490 [00:00<?, ? examples/s]"
      ]
     },
     "metadata": {},
     "output_type": "display_data"
    },
    {
     "name": "stdout",
     "output_type": "stream",
     "text": [
      "Features: ['article', 'highlights', 'id']\n"
     ]
    }
   ],
   "source": [
    "dataset = load_dataset(\"cnn_dailymail\", \"3.0.0\")\n",
    "print(f\"Features: {dataset['train'].column_names}\")"
   ]
  },
  {
   "cell_type": "code",
   "execution_count": 21,
   "metadata": {},
   "outputs": [
    {
     "name": "stdout",
     "output_type": "stream",
     "text": [
      "Article (excerpt of 500 characters, total length: 2527):\n",
      "\n",
      "LONDON, England (Reuters) -- Harry Potter star Daniel Radcliffe gains access to a reported £20 million ($41.1 million) fortune as he turns 18 on Monday, but he insists the money won't cast a spell on him. Daniel Radcliffe as Harry Potter in \"Harry Potter and the Order of the Phoenix\" To the disappointment of gossip columnists around the world, the young actor says he has no plans to fritter his cash away on fast cars, drink and celebrity parties. \"I don't plan to be one of those people who, as s\n",
      "\n",
      "Summary (length: 217):\n",
      "Harry Potter star Daniel Radcliffe gets £20M fortune as he turns 18 Monday .\n",
      "Young actor says he has no plans to fritter his cash away .\n",
      "Radcliffe's earnings from first five Potter films have been held in trust fund .\n"
     ]
    }
   ],
   "source": [
    "sample = dataset[\"train\"][0]  # first example from the training set\n",
    "print(f\"\"\"Article (excerpt of 500 characters, total length: {len(sample[\"article\"])}):\\n\"\"\")\n",
    "print(sample[\"article\"][:500])  # print first 500 characters of the article\n",
    "print(f'\\nSummary (length: {len(sample[\"highlights\"])}):')\n",
    "print(sample[\"highlights\"])"
   ]
  },
  {
   "cell_type": "code",
   "execution_count": 31,
   "metadata": {},
   "outputs": [
    {
     "name": "stdout",
     "output_type": "stream",
     "text": [
      "Number of articles (train): 287113\n",
      "Number of articles (test): 11490\n",
      "Number of articles (total): 298603\n",
      "\n",
      "Example data sample:\n",
      "{\n",
      "    \"article\": \"LONDON, England (Reuters) -- Harry Potter star Daniel Radcliffe gains access to a reported \\u00a320 million ($41.1 million) fortune as he turns 18 on Monday, but he insists the money won't cast a spell on him. Daniel Radcliffe as Harry Potter in \\\"Harry Potter and the Order of the Phoenix\\\" To the disappointment of gossip columnists around the world, the young actor says he has no plans to fritter his cash away on fast cars, drink and celebrity parties. \\\"I don't plan to be one of those people who, as soon as they turn 18, suddenly buy themselves a massive sports car collection or something similar,\\\" he told an Australian interviewer earlier this month. \\\"I don't think I'll be particularly extravagant. \\\"The things I like buying are things that cost about 10 pounds -- books and CDs and DVDs.\\\" At 18, Radcliffe will be able to gamble in a casino, buy a drink in a pub or see the horror film \\\"Hostel: Part II,\\\" currently six places below his number one movie on the UK box office chart. Details of how he'll mark his landmark birthday are under wraps. His agent and publicist had no comment on his plans. \\\"I'll definitely have some sort of party,\\\" he said in an interview. \\\"Hopefully none of you will be reading about it.\\\" Radcliffe's earnings from the first five Potter films have been held in a trust fund which he has not been able to touch. Despite his growing fame and riches, the actor says he is keeping his feet firmly on the ground. \\\"People are always looking to say 'kid star goes off the rails,'\\\" he told reporters last month. \\\"But I try very hard not to go that way because it would be too easy for them.\\\" His latest outing as the boy wizard in \\\"Harry Potter and the Order of the Phoenix\\\" is breaking records on both sides of the Atlantic and he will reprise the role in the last two films.  Watch I-Reporter give her review of Potter's latest \\u00bb . There is life beyond Potter, however. The Londoner has filmed a TV movie called \\\"My Boy Jack,\\\" about author Rudyard Kipling and his son, due for release later this year. He will also appear in \\\"December Boys,\\\" an Australian film about four boys who escape an orphanage. Earlier this year, he made his stage debut playing a tortured teenager in Peter Shaffer's \\\"Equus.\\\" Meanwhile, he is braced for even closer media scrutiny now that he's legally an adult: \\\"I just think I'm going to be more sort of fair game,\\\" he told Reuters. E-mail to a friend . Copyright 2007 Reuters. All rights reserved.This material may not be published, broadcast, rewritten, or redistributed.\",\n",
      "    \"highlights\": \"Harry Potter star Daniel Radcliffe gets \\u00a320M fortune as he turns 18 Monday .\\nYoung actor says he has no plans to fritter his cash away .\\nRadcliffe's earnings from first five Potter films have been held in trust fund .\",\n",
      "    \"id\": \"42c027e4ff9730fbb3de84c1af0d2c506e41c3e4\"\n",
      "}\n",
      "\n",
      "Article lengths: from 48 to 15925 characters long (mean: 4033)\n",
      "Summary lengths: from 14 to 7388 characters long (mean: 294)\n"
     ]
    }
   ],
   "source": [
    "print('Number of articles (train):', len(dataset[\"train\"]))\n",
    "print('Number of articles (test):', len(dataset[\"test\"]))\n",
    "print('Number of articles (total):', len(dataset[\"train\"]) + len(dataset[\"test\"]))\n",
    "\n",
    "print('')\n",
    "print('Example data sample:')\n",
    "print(json.dumps(dataset[\"train\"][0], indent=4))  # observe the structure of a single sample\n",
    "print('')\n",
    "\n",
    "article_lengths = [len(sample[\"article\"]) for sample in dataset[\"train\"]]\n",
    "summary_lengths = [len(sample[\"highlights\"]) for sample in dataset[\"train\"]]\n",
    "print('Article lengths: from', min(article_lengths), 'to', max(article_lengths), 'characters long', f'(mean: {int(sum(article_lengths) / len(article_lengths))})')\n",
    "print('Summary lengths: from', min(summary_lengths), 'to', max(summary_lengths), 'characters long', f'(mean: {int(sum(summary_lengths) / len(summary_lengths))})')"
   ]
  },
  {
   "cell_type": "code",
   "execution_count": 32,
   "metadata": {},
   "outputs": [
    {
     "data": {
      "image/png": "[encoded data removed]",
      "text/plain": [
       "<Figure size 640x480 with 1 Axes>"
      ]
     },
     "metadata": {},
     "output_type": "display_data"
    },
    {
     "data": {
      "image/png": "[encoded data removed]",
      "text/plain": [
       "<Figure size 640x480 with 1 Axes>"
      ]
     },
     "metadata": {},
     "output_type": "display_data"
    }
   ],
   "source": [
    "# histogram of article lengths\n",
    "plt.hist(article_lengths, bins=50)\n",
    "plt.title('Article Lengths')\n",
    "plt.xlabel('Length (characters)')\n",
    "plt.ylabel('Number of Articles')\n",
    "plt.show()\n",
    "\n",
    "# histogram of summary lengths\n",
    "plt.hist(summary_lengths, bins=50)\n",
    "plt.title('Summary Lengths')\n",
    "plt.xlabel('Length (characters)')\n",
    "plt.ylabel('Number of Summaries')\n",
    "plt.show()"
   ]
  },
  {
   "cell_type": "markdown",
   "metadata": {},
   "source": [
    "## Text Summarization Pipelines\n",
    "Let's have a look at some of the popular transformer models for summarization.\n",
    "\n",
    "***NOTE***  \n",
    "*These transformer models have varying maximum input sizes, but here we will fix the input at **2000 characters**, so the outputs from these models would be comparable.*\n"
   ]
  },
  {
   "cell_type": "code",
   "execution_count": 41,
   "metadata": {},
   "outputs": [],
   "source": [
    "sample_text = dataset[\"train\"][0][\"article\"][:2000]\n",
    "\n",
    "# We'll collect the generated summaries of each model in a dictionary\n",
    "summaries = {}"
   ]
  },
  {
   "cell_type": "markdown",
   "metadata": {},
   "source": [
    "Before we move on, there is a note that bears mentioning here.\n",
    "\n",
    "There is a convention to separate summary sentences by newlines by adding a newline after each full stop. However, this method would fail with abbreviations like \"U.S.\" and \"U.N.\". Fortunately, the NLTK package may be used to determine ends of sentences for us"
   ]
  },
  {
   "cell_type": "code",
   "execution_count": 42,
   "metadata": {},
   "outputs": [
    {
     "name": "stderr",
     "output_type": "stream",
     "text": [
      "[nltk_data] Downloading package punkt to\n",
      "[nltk_data]     C:\\Users\\ALiZaTo\\AppData\\Roaming\\nltk_data...\n",
      "[nltk_data]   Package punkt is already up-to-date!\n",
      "[nltk_data] Downloading package punkt_tab to\n",
      "[nltk_data]     C:\\Users\\ALiZaTo\\AppData\\Roaming\\nltk_data...\n",
      "[nltk_data]   Package punkt_tab is already up-to-date!\n"
     ]
    },
    {
     "data": {
      "text/plain": [
       "True"
      ]
     },
     "execution_count": 42,
     "metadata": {},
     "output_type": "execute_result"
    }
   ],
   "source": [
    "import nltk\n",
    "from nltk.tokenize import sent_tokenize\n",
    "nltk.download(\"punkt\")\n",
    "nltk.download('punkt_tab')"
   ]
  },
  {
   "cell_type": "code",
   "execution_count": 43,
   "metadata": {},
   "outputs": [
    {
     "data": {
      "text/plain": [
       "['The U.S. are a country.', 'The U.N. is an organization.']"
      ]
     },
     "execution_count": 43,
     "metadata": {},
     "output_type": "execute_result"
    }
   ],
   "source": [
    "string = \"The U.S. are a country. The U.N. is an organization.\"\n",
    "sent_tokenize(string)"
   ]
  },
  {
   "cell_type": "markdown",
   "metadata": {},
   "source": [
    "### Summarization Baseline\n"
   ]
  },
  {
   "cell_type": "code",
   "execution_count": 44,
   "metadata": {},
   "outputs": [],
   "source": [
    "def three_sentence_summary(text):\n",
    "    return \"\\n\".join(sent_tokenize(text)[:3])"
   ]
  },
  {
   "cell_type": "code",
   "execution_count": 47,
   "metadata": {},
   "outputs": [
    {
     "name": "stdout",
     "output_type": "stream",
     "text": [
      "LONDON, England (Reuters) -- Harry Potter star Daniel Radcliffe gains access to a reported £20 million ($41.1 million) fortune as he turns 18 on Monday, but he insists the money won't cast a spell on him.\n",
      "Daniel Radcliffe as Harry Potter in \"Harry Potter and the Order of the Phoenix\" To the disappointment of gossip columnists around the world, the young actor says he has no plans to fritter his cash away on fast cars, drink and celebrity parties.\n",
      "\"I don't plan to be one of those people who, as soon as they turn 18, suddenly buy themselves a massive sports car collection or something similar,\" he told an Australian interviewer earlier this month.\n"
     ]
    }
   ],
   "source": [
    "summaries[\"baseline\"] = three_sentence_summary(sample_text)\n",
    "print(summaries[\"baseline\"])"
   ]
  },
  {
   "cell_type": "markdown",
   "metadata": {},
   "source": [
    "### GPT-2"
   ]
  },
  {
   "cell_type": "code",
   "execution_count": 48,
   "metadata": {},
   "outputs": [
    {
     "data": {
      "application/vnd.jupyter.widget-view+json": {
       "model_id": "1880e16688bb460ba8e42b4473113e94",
       "version_major": 2,
       "version_minor": 0
      },
      "text/plain": [
       "config.json:   0%|          | 0.00/689 [00:00<?, ?B/s]"
      ]
     },
     "metadata": {},
     "output_type": "display_data"
    },
    {
     "name": "stderr",
     "output_type": "stream",
     "text": [
      "c:\\Users\\ALiZaTo\\anaconda3\\envs\\torch-gpu\\Lib\\site-packages\\huggingface_hub\\file_download.py:140: UserWarning: `huggingface_hub` cache-system uses symlinks by default to efficiently store duplicated files but your machine does not support them in C:\\Users\\ALiZaTo\\.cache\\huggingface\\hub\\models--gpt2-xl. Caching files will still work but in a degraded version that might require more space on your disk. This warning can be disabled by setting the `HF_HUB_DISABLE_SYMLINKS_WARNING` environment variable. For more details, see https://huggingface.co/docs/huggingface_hub/how-to-cache#limitations.\n",
      "To support symlinks on Windows, you either need to activate Developer Mode or to run Python as an administrator. In order to activate developer mode, see this article: https://docs.microsoft.com/en-us/windows/apps/get-started/enable-your-device-for-development\n",
      "  warnings.warn(message)\n"
     ]
    },
    {
     "data": {
      "application/vnd.jupyter.widget-view+json": {
       "model_id": "9163a681d31b4464a05127ce6d8c0ebc",
       "version_major": 2,
       "version_minor": 0
      },
      "text/plain": [
       "model.safetensors:   0%|          | 0.00/6.43G [00:00<?, ?B/s]"
      ]
     },
     "metadata": {},
     "output_type": "display_data"
    },
    {
     "data": {
      "application/vnd.jupyter.widget-view+json": {
       "model_id": "1bf56f11d7a54d13b4af4f87fe34bf01",
       "version_major": 2,
       "version_minor": 0
      },
      "text/plain": [
       "generation_config.json:   0%|          | 0.00/124 [00:00<?, ?B/s]"
      ]
     },
     "metadata": {},
     "output_type": "display_data"
    },
    {
     "data": {
      "application/vnd.jupyter.widget-view+json": {
       "model_id": "ce927d083d6843e29cee459cbdb9aafe",
       "version_major": 2,
       "version_minor": 0
      },
      "text/plain": [
       "tokenizer_config.json:   0%|          | 0.00/26.0 [00:00<?, ?B/s]"
      ]
     },
     "metadata": {},
     "output_type": "display_data"
    },
    {
     "data": {
      "application/vnd.jupyter.widget-view+json": {
       "model_id": "e62acbbf69e94c5cbfad88bf84cb1fd5",
       "version_major": 2,
       "version_minor": 0
      },
      "text/plain": [
       "vocab.json:   0%|          | 0.00/1.04M [00:00<?, ?B/s]"
      ]
     },
     "metadata": {},
     "output_type": "display_data"
    },
    {
     "data": {
      "application/vnd.jupyter.widget-view+json": {
       "model_id": "41451169bc8e4ff38229aeb0b8d0ad1f",
       "version_major": 2,
       "version_minor": 0
      },
      "text/plain": [
       "merges.txt:   0%|          | 0.00/456k [00:00<?, ?B/s]"
      ]
     },
     "metadata": {},
     "output_type": "display_data"
    },
    {
     "data": {
      "application/vnd.jupyter.widget-view+json": {
       "model_id": "8f979fa6a97c4b198740827851484524",
       "version_major": 2,
       "version_minor": 0
      },
      "text/plain": [
       "tokenizer.json:   0%|          | 0.00/1.36M [00:00<?, ?B/s]"
      ]
     },
     "metadata": {},
     "output_type": "display_data"
    },
    {
     "name": "stderr",
     "output_type": "stream",
     "text": [
      "Device set to use cuda:0\n",
      "Truncation was not explicitly activated but `max_length` is provided a specific value, please use `truncation=True` to explicitly truncate examples to max length. Defaulting to 'longest_first' truncation strategy. If you encode pairs of sequences (GLUE-style) with the tokenizer you can select this strategy more precisely by providing a specific strategy to `truncation`.\n",
      "Setting `pad_token_id` to `eos_token_id`:50256 for open-end generation.\n"
     ]
    }
   ],
   "source": [
    "set_seed(42)\n",
    "pipe = pipeline(\"text-generation\", model=\"gpt2-xl\")\n",
    "gpt2_query = sample_text + \"\\nTL;DR:\\n\"\n",
    "pipe_out = pipe(gpt2_query, max_length=512, clean_up_tokenization_spaces=True)\n",
    "summaries[\"gpt2\"] = \"\\n\".join(\n",
    "    sent_tokenize(pipe_out[0][\"generated_text\"][len(gpt2_query) :]))"
   ]
  },
  {
   "cell_type": "markdown",
   "metadata": {},
   "source": [
    "### T5"
   ]
  },
  {
   "cell_type": "code",
   "execution_count": 49,
   "metadata": {},
   "outputs": [
    {
     "data": {
      "application/vnd.jupyter.widget-view+json": {
       "model_id": "aa372f71d9014bc49d0b19fb0f94e044",
       "version_major": 2,
       "version_minor": 0
      },
      "text/plain": [
       "config.json:   0%|          | 0.00/1.21k [00:00<?, ?B/s]"
      ]
     },
     "metadata": {},
     "output_type": "display_data"
    },
    {
     "name": "stderr",
     "output_type": "stream",
     "text": [
      "c:\\Users\\ALiZaTo\\anaconda3\\envs\\torch-gpu\\Lib\\site-packages\\huggingface_hub\\file_download.py:140: UserWarning: `huggingface_hub` cache-system uses symlinks by default to efficiently store duplicated files but your machine does not support them in C:\\Users\\ALiZaTo\\.cache\\huggingface\\hub\\models--t5-large. Caching files will still work but in a degraded version that might require more space on your disk. This warning can be disabled by setting the `HF_HUB_DISABLE_SYMLINKS_WARNING` environment variable. For more details, see https://huggingface.co/docs/huggingface_hub/how-to-cache#limitations.\n",
      "To support symlinks on Windows, you either need to activate Developer Mode or to run Python as an administrator. In order to activate developer mode, see this article: https://docs.microsoft.com/en-us/windows/apps/get-started/enable-your-device-for-development\n",
      "  warnings.warn(message)\n"
     ]
    },
    {
     "data": {
      "application/vnd.jupyter.widget-view+json": {
       "model_id": "0eb922dfd38a4249b489bfa8b1e3ecf8",
       "version_major": 2,
       "version_minor": 0
      },
      "text/plain": [
       "model.safetensors:   0%|          | 0.00/2.95G [00:00<?, ?B/s]"
      ]
     },
     "metadata": {},
     "output_type": "display_data"
    },
    {
     "data": {
      "application/vnd.jupyter.widget-view+json": {
       "model_id": "f62f2036408947fa991f0ef11d0137a4",
       "version_major": 2,
       "version_minor": 0
      },
      "text/plain": [
       "generation_config.json:   0%|          | 0.00/147 [00:00<?, ?B/s]"
      ]
     },
     "metadata": {},
     "output_type": "display_data"
    },
    {
     "data": {
      "application/vnd.jupyter.widget-view+json": {
       "model_id": "84965fbb1f2f4491bff0d53aec09a96c",
       "version_major": 2,
       "version_minor": 0
      },
      "text/plain": [
       "spiece.model:   0%|          | 0.00/792k [00:00<?, ?B/s]"
      ]
     },
     "metadata": {},
     "output_type": "display_data"
    },
    {
     "data": {
      "application/vnd.jupyter.widget-view+json": {
       "model_id": "82eb066c108945f39d50f2ccd0aeb395",
       "version_major": 2,
       "version_minor": 0
      },
      "text/plain": [
       "tokenizer.json:   0%|          | 0.00/1.39M [00:00<?, ?B/s]"
      ]
     },
     "metadata": {},
     "output_type": "display_data"
    },
    {
     "name": "stderr",
     "output_type": "stream",
     "text": [
      "Device set to use cuda:0\n"
     ]
    }
   ],
   "source": [
    "pipe = pipeline(\"summarization\", model=\"t5-large\")\n",
    "pipe_out = pipe(sample_text)\n",
    "summaries[\"t5\"] = \"\\n\".join(sent_tokenize(pipe_out[0][\"summary_text\"]))"
   ]
  },
  {
   "cell_type": "markdown",
   "metadata": {},
   "source": [
    "### BART"
   ]
  },
  {
   "cell_type": "code",
   "execution_count": 50,
   "metadata": {},
   "outputs": [
    {
     "data": {
      "application/vnd.jupyter.widget-view+json": {
       "model_id": "29678d8902624a3bb87a461ffb3f6654",
       "version_major": 2,
       "version_minor": 0
      },
      "text/plain": [
       "config.json: 0.00B [00:00, ?B/s]"
      ]
     },
     "metadata": {},
     "output_type": "display_data"
    },
    {
     "name": "stderr",
     "output_type": "stream",
     "text": [
      "c:\\Users\\ALiZaTo\\anaconda3\\envs\\torch-gpu\\Lib\\site-packages\\huggingface_hub\\file_download.py:140: UserWarning: `huggingface_hub` cache-system uses symlinks by default to efficiently store duplicated files but your machine does not support them in C:\\Users\\ALiZaTo\\.cache\\huggingface\\hub\\models--facebook--bart-large-cnn. Caching files will still work but in a degraded version that might require more space on your disk. This warning can be disabled by setting the `HF_HUB_DISABLE_SYMLINKS_WARNING` environment variable. For more details, see https://huggingface.co/docs/huggingface_hub/how-to-cache#limitations.\n",
      "To support symlinks on Windows, you either need to activate Developer Mode or to run Python as an administrator. In order to activate developer mode, see this article: https://docs.microsoft.com/en-us/windows/apps/get-started/enable-your-device-for-development\n",
      "  warnings.warn(message)\n"
     ]
    },
    {
     "data": {
      "application/vnd.jupyter.widget-view+json": {
       "model_id": "3647192a051349f18a9b83000448daa3",
       "version_major": 2,
       "version_minor": 0
      },
      "text/plain": [
       "model.safetensors:   0%|          | 0.00/1.63G [00:00<?, ?B/s]"
      ]
     },
     "metadata": {},
     "output_type": "display_data"
    },
    {
     "data": {
      "application/vnd.jupyter.widget-view+json": {
       "model_id": "228caca713624d299e18a34ed2865601",
       "version_major": 2,
       "version_minor": 0
      },
      "text/plain": [
       "generation_config.json:   0%|          | 0.00/363 [00:00<?, ?B/s]"
      ]
     },
     "metadata": {},
     "output_type": "display_data"
    },
    {
     "data": {
      "application/vnd.jupyter.widget-view+json": {
       "model_id": "d01639c873794786adb427e9b55ed791",
       "version_major": 2,
       "version_minor": 0
      },
      "text/plain": [
       "vocab.json: 0.00B [00:00, ?B/s]"
      ]
     },
     "metadata": {},
     "output_type": "display_data"
    },
    {
     "data": {
      "application/vnd.jupyter.widget-view+json": {
       "model_id": "7bccd952e64b414680eb0e3f6dace111",
       "version_major": 2,
       "version_minor": 0
      },
      "text/plain": [
       "merges.txt: 0.00B [00:00, ?B/s]"
      ]
     },
     "metadata": {},
     "output_type": "display_data"
    },
    {
     "data": {
      "application/vnd.jupyter.widget-view+json": {
       "model_id": "086a0c19b8534434aea6862ea87480f6",
       "version_major": 2,
       "version_minor": 0
      },
      "text/plain": [
       "tokenizer.json: 0.00B [00:00, ?B/s]"
      ]
     },
     "metadata": {},
     "output_type": "display_data"
    },
    {
     "name": "stderr",
     "output_type": "stream",
     "text": [
      "Device set to use cuda:0\n"
     ]
    }
   ],
   "source": [
    "pipe = pipeline(\"summarization\", model=\"facebook/bart-large-cnn\")\n",
    "pipe_out = pipe(sample_text)\n",
    "summaries[\"bart\"] = \"\\n\".join(sent_tokenize(pipe_out[0][\"summary_text\"]))"
   ]
  },
  {
   "cell_type": "markdown",
   "metadata": {},
   "source": [
    "### PEGASUS"
   ]
  },
  {
   "cell_type": "code",
   "execution_count": 51,
   "metadata": {},
   "outputs": [
    {
     "data": {
      "application/vnd.jupyter.widget-view+json": {
       "model_id": "dfd378ab5ffa4b98a62e03a563ee28c0",
       "version_major": 2,
       "version_minor": 0
      },
      "text/plain": [
       "config.json: 0.00B [00:00, ?B/s]"
      ]
     },
     "metadata": {},
     "output_type": "display_data"
    },
    {
     "name": "stderr",
     "output_type": "stream",
     "text": [
      "c:\\Users\\ALiZaTo\\anaconda3\\envs\\torch-gpu\\Lib\\site-packages\\huggingface_hub\\file_download.py:140: UserWarning: `huggingface_hub` cache-system uses symlinks by default to efficiently store duplicated files but your machine does not support them in C:\\Users\\ALiZaTo\\.cache\\huggingface\\hub\\models--google--pegasus-cnn_dailymail. Caching files will still work but in a degraded version that might require more space on your disk. This warning can be disabled by setting the `HF_HUB_DISABLE_SYMLINKS_WARNING` environment variable. For more details, see https://huggingface.co/docs/huggingface_hub/how-to-cache#limitations.\n",
      "To support symlinks on Windows, you either need to activate Developer Mode or to run Python as an administrator. In order to activate developer mode, see this article: https://docs.microsoft.com/en-us/windows/apps/get-started/enable-your-device-for-development\n",
      "  warnings.warn(message)\n"
     ]
    },
    {
     "data": {
      "application/vnd.jupyter.widget-view+json": {
       "model_id": "57bd4c240970436388958fa7382c115b",
       "version_major": 2,
       "version_minor": 0
      },
      "text/plain": [
       "pytorch_model.bin:   0%|          | 0.00/2.28G [00:00<?, ?B/s]"
      ]
     },
     "metadata": {},
     "output_type": "display_data"
    },
    {
     "name": "stderr",
     "output_type": "stream",
     "text": [
      "Some weights of PegasusForConditionalGeneration were not initialized from the model checkpoint at google/pegasus-cnn_dailymail and are newly initialized: ['model.decoder.embed_positions.weight', 'model.encoder.embed_positions.weight']\n",
      "You should probably TRAIN this model on a down-stream task to be able to use it for predictions and inference.\n"
     ]
    },
    {
     "data": {
      "application/vnd.jupyter.widget-view+json": {
       "model_id": "f5145f5c648e40ca8e672959bef3502e",
       "version_major": 2,
       "version_minor": 0
      },
      "text/plain": [
       "generation_config.json:   0%|          | 0.00/280 [00:00<?, ?B/s]"
      ]
     },
     "metadata": {},
     "output_type": "display_data"
    },
    {
     "data": {
      "application/vnd.jupyter.widget-view+json": {
       "model_id": "ccfc10b827284347a65d734b53051182",
       "version_major": 2,
       "version_minor": 0
      },
      "text/plain": [
       "tokenizer_config.json:   0%|          | 0.00/88.0 [00:00<?, ?B/s]"
      ]
     },
     "metadata": {},
     "output_type": "display_data"
    },
    {
     "data": {
      "application/vnd.jupyter.widget-view+json": {
       "model_id": "bc155efb673a4055be91dda1a40fbd36",
       "version_major": 2,
       "version_minor": 0
      },
      "text/plain": [
       "spiece.model:   0%|          | 0.00/1.91M [00:00<?, ?B/s]"
      ]
     },
     "metadata": {},
     "output_type": "display_data"
    },
    {
     "data": {
      "application/vnd.jupyter.widget-view+json": {
       "model_id": "42bf428c489e45399046323f18b4ba8d",
       "version_major": 2,
       "version_minor": 0
      },
      "text/plain": [
       "special_tokens_map.json:   0%|          | 0.00/65.0 [00:00<?, ?B/s]"
      ]
     },
     "metadata": {},
     "output_type": "display_data"
    },
    {
     "ename": "ImportError",
     "evalue": "\n requires the protobuf library but it was not found in your environment. Checkout the instructions on the\ninstallation page of its repo: https://github.com/protocolbuffers/protobuf/tree/master/python#installation and follow the ones\nthat match your environment. Please note that you may need to restart your runtime after installation.\n",
     "output_type": "error",
     "traceback": [
      "\u001b[1;31m---------------------------------------------------------------------------\u001b[0m",
      "\u001b[1;31mImportError\u001b[0m                               Traceback (most recent call last)",
      "File \u001b[1;32mc:\\Users\\ALiZaTo\\anaconda3\\envs\\torch-gpu\\Lib\\site-packages\\transformers\\tokenization_utils_base.py:2272\u001b[0m, in \u001b[0;36mPreTrainedTokenizerBase._from_pretrained\u001b[1;34m(cls, resolved_vocab_files, pretrained_model_name_or_path, init_configuration, token, cache_dir, local_files_only, _commit_hash, _is_local, trust_remote_code, *init_inputs, **kwargs)\u001b[0m\n\u001b[0;32m   2271\u001b[0m \u001b[38;5;28;01mtry\u001b[39;00m:\n\u001b[1;32m-> 2272\u001b[0m     tokenizer \u001b[38;5;241m=\u001b[39m \u001b[38;5;28mcls\u001b[39m(\u001b[38;5;241m*\u001b[39minit_inputs, \u001b[38;5;241m*\u001b[39m\u001b[38;5;241m*\u001b[39minit_kwargs)\n\u001b[0;32m   2273\u001b[0m \u001b[38;5;28;01mexcept\u001b[39;00m import_protobuf_decode_error():\n",
      "File \u001b[1;32mc:\\Users\\ALiZaTo\\anaconda3\\envs\\torch-gpu\\Lib\\site-packages\\transformers\\models\\pegasus\\tokenization_pegasus_fast.py:136\u001b[0m, in \u001b[0;36mPegasusTokenizerFast.__init__\u001b[1;34m(self, vocab_file, tokenizer_file, pad_token, eos_token, unk_token, mask_token, mask_token_sent, additional_special_tokens, offset, **kwargs)\u001b[0m\n\u001b[0;32m    134\u001b[0m kwargs\u001b[38;5;241m.\u001b[39mpop(\u001b[38;5;124m\"\u001b[39m\u001b[38;5;124madded_tokens_decoder\u001b[39m\u001b[38;5;124m\"\u001b[39m, {})\n\u001b[1;32m--> 136\u001b[0m \u001b[38;5;28msuper\u001b[39m()\u001b[38;5;241m.\u001b[39m\u001b[38;5;21m__init__\u001b[39m(\n\u001b[0;32m    137\u001b[0m     vocab_file,\n\u001b[0;32m    138\u001b[0m     tokenizer_file\u001b[38;5;241m=\u001b[39mtokenizer_file,\n\u001b[0;32m    139\u001b[0m     pad_token\u001b[38;5;241m=\u001b[39mpad_token,\n\u001b[0;32m    140\u001b[0m     eos_token\u001b[38;5;241m=\u001b[39meos_token,\n\u001b[0;32m    141\u001b[0m     unk_token\u001b[38;5;241m=\u001b[39munk_token,\n\u001b[0;32m    142\u001b[0m     mask_token\u001b[38;5;241m=\u001b[39mmask_token,\n\u001b[0;32m    143\u001b[0m     mask_token_sent\u001b[38;5;241m=\u001b[39mmask_token_sent,\n\u001b[0;32m    144\u001b[0m     offset\u001b[38;5;241m=\u001b[39moffset,\n\u001b[0;32m    145\u001b[0m     additional_special_tokens\u001b[38;5;241m=\u001b[39madditional_special_tokens,\n\u001b[0;32m    146\u001b[0m     from_slow\u001b[38;5;241m=\u001b[39mfrom_slow,\n\u001b[0;32m    147\u001b[0m     \u001b[38;5;241m*\u001b[39m\u001b[38;5;241m*\u001b[39mkwargs,\n\u001b[0;32m    148\u001b[0m )\n\u001b[0;32m    149\u001b[0m \u001b[38;5;28mself\u001b[39m\u001b[38;5;241m.\u001b[39mvocab_file \u001b[38;5;241m=\u001b[39m vocab_file\n",
      "File \u001b[1;32mc:\\Users\\ALiZaTo\\anaconda3\\envs\\torch-gpu\\Lib\\site-packages\\transformers\\tokenization_utils_fast.py:119\u001b[0m, in \u001b[0;36mPreTrainedTokenizerFast.__init__\u001b[1;34m(self, *args, **kwargs)\u001b[0m\n\u001b[0;32m    117\u001b[0m \u001b[38;5;28;01melif\u001b[39;00m slow_tokenizer:\n\u001b[0;32m    118\u001b[0m     \u001b[38;5;66;03m# We need to convert a slow tokenizer to build the backend\u001b[39;00m\n\u001b[1;32m--> 119\u001b[0m     fast_tokenizer \u001b[38;5;241m=\u001b[39m convert_slow_tokenizer(slow_tokenizer)\n\u001b[0;32m    120\u001b[0m \u001b[38;5;28;01melif\u001b[39;00m gguf_file \u001b[38;5;129;01mis\u001b[39;00m \u001b[38;5;129;01mnot\u001b[39;00m \u001b[38;5;28;01mNone\u001b[39;00m:\n\u001b[0;32m    121\u001b[0m     \u001b[38;5;66;03m# We need to convert a slow tokenizer to build the backend\u001b[39;00m\n",
      "File \u001b[1;32mc:\\Users\\ALiZaTo\\anaconda3\\envs\\torch-gpu\\Lib\\site-packages\\transformers\\convert_slow_tokenizer.py:1628\u001b[0m, in \u001b[0;36mconvert_slow_tokenizer\u001b[1;34m(transformer_tokenizer, from_tiktoken)\u001b[0m\n\u001b[0;32m   1627\u001b[0m     converter_class \u001b[38;5;241m=\u001b[39m SLOW_TO_FAST_CONVERTERS[tokenizer_class_name]\n\u001b[1;32m-> 1628\u001b[0m     \u001b[38;5;28;01mreturn\u001b[39;00m converter_class(transformer_tokenizer)\u001b[38;5;241m.\u001b[39mconverted()\n\u001b[0;32m   1630\u001b[0m \u001b[38;5;28;01melse\u001b[39;00m:\n",
      "File \u001b[1;32mc:\\Users\\ALiZaTo\\anaconda3\\envs\\torch-gpu\\Lib\\site-packages\\transformers\\convert_slow_tokenizer.py:548\u001b[0m, in \u001b[0;36mSpmConverter.__init__\u001b[1;34m(self, *args)\u001b[0m\n\u001b[0;32m    547\u001b[0m \u001b[38;5;28;01mdef\u001b[39;00m \u001b[38;5;21m__init__\u001b[39m(\u001b[38;5;28mself\u001b[39m, \u001b[38;5;241m*\u001b[39margs):\n\u001b[1;32m--> 548\u001b[0m     requires_backends(\u001b[38;5;28mself\u001b[39m, \u001b[38;5;124m\"\u001b[39m\u001b[38;5;124mprotobuf\u001b[39m\u001b[38;5;124m\"\u001b[39m)\n\u001b[0;32m    550\u001b[0m     \u001b[38;5;28msuper\u001b[39m()\u001b[38;5;241m.\u001b[39m\u001b[38;5;21m__init__\u001b[39m(\u001b[38;5;241m*\u001b[39margs)\n",
      "File \u001b[1;32mc:\\Users\\ALiZaTo\\anaconda3\\envs\\torch-gpu\\Lib\\site-packages\\transformers\\utils\\import_utils.py:1654\u001b[0m, in \u001b[0;36mrequires_backends\u001b[1;34m(obj, backends)\u001b[0m\n\u001b[0;32m   1653\u001b[0m \u001b[38;5;28;01mif\u001b[39;00m failed:\n\u001b[1;32m-> 1654\u001b[0m     \u001b[38;5;28;01mraise\u001b[39;00m \u001b[38;5;167;01mImportError\u001b[39;00m(\u001b[38;5;124m\"\u001b[39m\u001b[38;5;124m\"\u001b[39m\u001b[38;5;241m.\u001b[39mjoin(failed))\n",
      "\u001b[1;31mImportError\u001b[0m: \nPegasusConverter requires the protobuf library but it was not found in your environment. Checkout the instructions on the\ninstallation page of its repo: https://github.com/protocolbuffers/protobuf/tree/master/python#installation and follow the ones\nthat match your environment. Please note that you may need to restart your runtime after installation.\n",
      "\nDuring handling of the above exception, another exception occurred:\n",
      "\u001b[1;31mImportError\u001b[0m                               Traceback (most recent call last)",
      "Cell \u001b[1;32mIn[51], line 2\u001b[0m\n\u001b[0;32m      1\u001b[0m \u001b[38;5;66;03m#hide_output\u001b[39;00m\n\u001b[1;32m----> 2\u001b[0m pipe \u001b[38;5;241m=\u001b[39m pipeline(\u001b[38;5;124m\"\u001b[39m\u001b[38;5;124msummarization\u001b[39m\u001b[38;5;124m\"\u001b[39m, model\u001b[38;5;241m=\u001b[39m\u001b[38;5;124m\"\u001b[39m\u001b[38;5;124mgoogle/pegasus-cnn_dailymail\u001b[39m\u001b[38;5;124m\"\u001b[39m)\n\u001b[0;32m      3\u001b[0m pipe_out \u001b[38;5;241m=\u001b[39m pipe(sample_text)\n\u001b[0;32m      4\u001b[0m summaries[\u001b[38;5;124m\"\u001b[39m\u001b[38;5;124mpegasus\u001b[39m\u001b[38;5;124m\"\u001b[39m] \u001b[38;5;241m=\u001b[39m pipe_out[\u001b[38;5;241m0\u001b[39m][\u001b[38;5;124m\"\u001b[39m\u001b[38;5;124msummary_text\u001b[39m\u001b[38;5;124m\"\u001b[39m]\u001b[38;5;241m.\u001b[39mreplace(\u001b[38;5;124m\"\u001b[39m\u001b[38;5;124m.<n>\u001b[39m\u001b[38;5;124m\"\u001b[39m, \u001b[38;5;124m\"\u001b[39m\u001b[38;5;124m.\u001b[39m\u001b[38;5;130;01m\\n\u001b[39;00m\u001b[38;5;124m\"\u001b[39m)\u001b[38;5;241m.\u001b[39mreplace(\u001b[38;5;124m'\u001b[39m\u001b[38;5;124m .\u001b[39m\u001b[38;5;124m'\u001b[39m, \u001b[38;5;124m'\u001b[39m\u001b[38;5;124m.\u001b[39m\u001b[38;5;124m'\u001b[39m)\n",
      "File \u001b[1;32mc:\\Users\\ALiZaTo\\anaconda3\\envs\\torch-gpu\\Lib\\site-packages\\transformers\\pipelines\\__init__.py:1047\u001b[0m, in \u001b[0;36mpipeline\u001b[1;34m(task, model, config, tokenizer, feature_extractor, image_processor, processor, framework, revision, use_fast, token, device, device_map, torch_dtype, trust_remote_code, model_kwargs, pipeline_class, **kwargs)\u001b[0m\n\u001b[0;32m   1044\u001b[0m             tokenizer_kwargs \u001b[38;5;241m=\u001b[39m model_kwargs\u001b[38;5;241m.\u001b[39mcopy()\n\u001b[0;32m   1045\u001b[0m             tokenizer_kwargs\u001b[38;5;241m.\u001b[39mpop(\u001b[38;5;124m\"\u001b[39m\u001b[38;5;124mtorch_dtype\u001b[39m\u001b[38;5;124m\"\u001b[39m, \u001b[38;5;28;01mNone\u001b[39;00m)\n\u001b[1;32m-> 1047\u001b[0m         tokenizer \u001b[38;5;241m=\u001b[39m AutoTokenizer\u001b[38;5;241m.\u001b[39mfrom_pretrained(\n\u001b[0;32m   1048\u001b[0m             tokenizer_identifier, use_fast\u001b[38;5;241m=\u001b[39muse_fast, _from_pipeline\u001b[38;5;241m=\u001b[39mtask, \u001b[38;5;241m*\u001b[39m\u001b[38;5;241m*\u001b[39mhub_kwargs, \u001b[38;5;241m*\u001b[39m\u001b[38;5;241m*\u001b[39mtokenizer_kwargs\n\u001b[0;32m   1049\u001b[0m         )\n\u001b[0;32m   1051\u001b[0m \u001b[38;5;28;01mif\u001b[39;00m load_image_processor:\n\u001b[0;32m   1052\u001b[0m     \u001b[38;5;66;03m# Try to infer image processor from model or config name (if provided as str)\u001b[39;00m\n\u001b[0;32m   1053\u001b[0m     \u001b[38;5;28;01mif\u001b[39;00m image_processor \u001b[38;5;129;01mis\u001b[39;00m \u001b[38;5;28;01mNone\u001b[39;00m:\n",
      "File \u001b[1;32mc:\\Users\\ALiZaTo\\anaconda3\\envs\\torch-gpu\\Lib\\site-packages\\transformers\\models\\auto\\tokenization_auto.py:940\u001b[0m, in \u001b[0;36mAutoTokenizer.from_pretrained\u001b[1;34m(cls, pretrained_model_name_or_path, *inputs, **kwargs)\u001b[0m\n\u001b[0;32m    937\u001b[0m tokenizer_class_py, tokenizer_class_fast \u001b[38;5;241m=\u001b[39m TOKENIZER_MAPPING[\u001b[38;5;28mtype\u001b[39m(config)]\n\u001b[0;32m    939\u001b[0m \u001b[38;5;28;01mif\u001b[39;00m tokenizer_class_fast \u001b[38;5;129;01mand\u001b[39;00m (use_fast \u001b[38;5;129;01mor\u001b[39;00m tokenizer_class_py \u001b[38;5;129;01mis\u001b[39;00m \u001b[38;5;28;01mNone\u001b[39;00m):\n\u001b[1;32m--> 940\u001b[0m     \u001b[38;5;28;01mreturn\u001b[39;00m tokenizer_class_fast\u001b[38;5;241m.\u001b[39mfrom_pretrained(pretrained_model_name_or_path, \u001b[38;5;241m*\u001b[39minputs, \u001b[38;5;241m*\u001b[39m\u001b[38;5;241m*\u001b[39mkwargs)\n\u001b[0;32m    941\u001b[0m \u001b[38;5;28;01melse\u001b[39;00m:\n\u001b[0;32m    942\u001b[0m     \u001b[38;5;28;01mif\u001b[39;00m tokenizer_class_py \u001b[38;5;129;01mis\u001b[39;00m \u001b[38;5;129;01mnot\u001b[39;00m \u001b[38;5;28;01mNone\u001b[39;00m:\n",
      "File \u001b[1;32mc:\\Users\\ALiZaTo\\anaconda3\\envs\\torch-gpu\\Lib\\site-packages\\transformers\\tokenization_utils_base.py:2032\u001b[0m, in \u001b[0;36mPreTrainedTokenizerBase.from_pretrained\u001b[1;34m(cls, pretrained_model_name_or_path, cache_dir, force_download, local_files_only, token, revision, trust_remote_code, *init_inputs, **kwargs)\u001b[0m\n\u001b[0;32m   2029\u001b[0m     \u001b[38;5;28;01melse\u001b[39;00m:\n\u001b[0;32m   2030\u001b[0m         logger\u001b[38;5;241m.\u001b[39minfo(\u001b[38;5;124mf\u001b[39m\u001b[38;5;124m\"\u001b[39m\u001b[38;5;124mloading file \u001b[39m\u001b[38;5;132;01m{\u001b[39;00mfile_path\u001b[38;5;132;01m}\u001b[39;00m\u001b[38;5;124m from cache at \u001b[39m\u001b[38;5;132;01m{\u001b[39;00mresolved_vocab_files[file_id]\u001b[38;5;132;01m}\u001b[39;00m\u001b[38;5;124m\"\u001b[39m)\n\u001b[1;32m-> 2032\u001b[0m \u001b[38;5;28;01mreturn\u001b[39;00m \u001b[38;5;28mcls\u001b[39m\u001b[38;5;241m.\u001b[39m_from_pretrained(\n\u001b[0;32m   2033\u001b[0m     resolved_vocab_files,\n\u001b[0;32m   2034\u001b[0m     pretrained_model_name_or_path,\n\u001b[0;32m   2035\u001b[0m     init_configuration,\n\u001b[0;32m   2036\u001b[0m     \u001b[38;5;241m*\u001b[39minit_inputs,\n\u001b[0;32m   2037\u001b[0m     token\u001b[38;5;241m=\u001b[39mtoken,\n\u001b[0;32m   2038\u001b[0m     cache_dir\u001b[38;5;241m=\u001b[39mcache_dir,\n\u001b[0;32m   2039\u001b[0m     local_files_only\u001b[38;5;241m=\u001b[39mlocal_files_only,\n\u001b[0;32m   2040\u001b[0m     _commit_hash\u001b[38;5;241m=\u001b[39mcommit_hash,\n\u001b[0;32m   2041\u001b[0m     _is_local\u001b[38;5;241m=\u001b[39mis_local,\n\u001b[0;32m   2042\u001b[0m     trust_remote_code\u001b[38;5;241m=\u001b[39mtrust_remote_code,\n\u001b[0;32m   2043\u001b[0m     \u001b[38;5;241m*\u001b[39m\u001b[38;5;241m*\u001b[39mkwargs,\n\u001b[0;32m   2044\u001b[0m )\n",
      "File \u001b[1;32mc:\\Users\\ALiZaTo\\anaconda3\\envs\\torch-gpu\\Lib\\site-packages\\transformers\\tokenization_utils_base.py:2273\u001b[0m, in \u001b[0;36mPreTrainedTokenizerBase._from_pretrained\u001b[1;34m(cls, resolved_vocab_files, pretrained_model_name_or_path, init_configuration, token, cache_dir, local_files_only, _commit_hash, _is_local, trust_remote_code, *init_inputs, **kwargs)\u001b[0m\n\u001b[0;32m   2271\u001b[0m \u001b[38;5;28;01mtry\u001b[39;00m:\n\u001b[0;32m   2272\u001b[0m     tokenizer \u001b[38;5;241m=\u001b[39m \u001b[38;5;28mcls\u001b[39m(\u001b[38;5;241m*\u001b[39minit_inputs, \u001b[38;5;241m*\u001b[39m\u001b[38;5;241m*\u001b[39minit_kwargs)\n\u001b[1;32m-> 2273\u001b[0m \u001b[38;5;28;01mexcept\u001b[39;00m import_protobuf_decode_error():\n\u001b[0;32m   2274\u001b[0m     logger\u001b[38;5;241m.\u001b[39minfo(\n\u001b[0;32m   2275\u001b[0m         \u001b[38;5;124m\"\u001b[39m\u001b[38;5;124mUnable to load tokenizer model from SPM, loading from TikToken will be attempted instead.\u001b[39m\u001b[38;5;124m\"\u001b[39m\n\u001b[0;32m   2276\u001b[0m         \u001b[38;5;124m\"\u001b[39m\u001b[38;5;124m(Google protobuf error: Tried to load SPM model with non-SPM vocab file).\u001b[39m\u001b[38;5;124m\"\u001b[39m,\n\u001b[0;32m   2277\u001b[0m     )\n\u001b[0;32m   2278\u001b[0m     \u001b[38;5;28;01mreturn\u001b[39;00m \u001b[38;5;28;01mFalse\u001b[39;00m\n",
      "File \u001b[1;32mc:\\Users\\ALiZaTo\\anaconda3\\envs\\torch-gpu\\Lib\\site-packages\\transformers\\tokenization_utils_base.py:87\u001b[0m, in \u001b[0;36mimport_protobuf_decode_error\u001b[1;34m(error_message)\u001b[0m\n\u001b[0;32m     85\u001b[0m     \u001b[38;5;28;01mreturn\u001b[39;00m DecodeError\n\u001b[0;32m     86\u001b[0m \u001b[38;5;28;01melse\u001b[39;00m:\n\u001b[1;32m---> 87\u001b[0m     \u001b[38;5;28;01mraise\u001b[39;00m \u001b[38;5;167;01mImportError\u001b[39;00m(PROTOBUF_IMPORT_ERROR\u001b[38;5;241m.\u001b[39mformat(error_message))\n",
      "\u001b[1;31mImportError\u001b[0m: \n requires the protobuf library but it was not found in your environment. Checkout the instructions on the\ninstallation page of its repo: https://github.com/protocolbuffers/protobuf/tree/master/python#installation and follow the ones\nthat match your environment. Please note that you may need to restart your runtime after installation.\n"
     ]
    }
   ],
   "source": [
    "#hide_output\n",
    "pipe = pipeline(\"summarization\", model=\"google/pegasus-cnn_dailymail\")\n",
    "pipe_out = pipe(sample_text)\n",
    "summaries[\"pegasus\"] = pipe_out[0][\"summary_text\"].replace(\".<n>\", \".\\n\").replace(' .', '.')\n",
    "# PEGASUS already has its own special token for newlines, so need to use sent_tokenize()."
   ]
  },
  {
   "cell_type": "markdown",
   "metadata": {},
   "source": [
    "## Comparing Different Summaries\n",
    "Here we compare the summaries generated from the different models, but there's something important to understand:\n",
    "- GPT-2 was not trained on this dataset at all.\n",
    "- T5 was specifically fine-tuned on the summarization task.\n",
    "- BART and PEGASUS have exclusively been fine-tuned on this dataset.\n",
    "\n",
    "With that in mind, let's see the results!"
   ]
  },
  {
   "cell_type": "code",
   "execution_count": null,
   "metadata": {},
   "outputs": [
    {
     "name": "stdout",
     "output_type": "stream",
     "text": [
      "GROUND TRUTH\n",
      "Usain Bolt wins third gold of world championship .\n",
      "Anchors Jamaica to 4x100m relay victory .\n",
      "Eighth gold at the championships for Bolt .\n",
      "Jamaica double up in women's 4x100m relay .\n",
      "\n",
      "BASELINE\n",
      "(CNN) -- Usain Bolt rounded off the world championships Sunday by claiming his\n",
      "third gold in Moscow as he anchored Jamaica to victory in the men's 4x100m\n",
      "relay.\n",
      "The fastest man in the world charged clear of United States rival Justin Gatlin\n",
      "as the Jamaican quartet of Nesta Carter, Kemar Bailey-Cole, Nickel Ashmeade and\n",
      "Bolt won in 37.36 seconds.\n",
      "The U.S finished second in 37.56 seconds with Canada taking the bronze after\n",
      "Britain were disqualified for a faulty handover.\n",
      "\n",
      "GPT2\n",
      "Nesta, the fastest man in the world.\n",
      "Gatlin, the most successful Olympian ever.\n",
      "Kemar, a Jamaican legend.\n",
      "Shelly-Ann, the fastest woman ever.\n",
      "Bolt, the world's greatest athlete.\n",
      "The team sport of pole vaulting\n",
      "\n",
      "T5\n",
      "usain bolt wins his third gold medal of the world championships in the men's\n",
      "4x100m relay .\n",
      "the 26-year-old anchored Jamaica to victory in the event in the Russian capital\n",
      ".\n",
      "he has now collected eight gold medals at the championships, equaling the record\n",
      ".\n",
      "\n",
      "BART\n",
      "Usain Bolt wins his third gold of the world championships in Moscow.\n",
      "Bolt anchors Jamaica to victory in the men's 4x100m relay.\n",
      "The 26-year-old has now won eight gold medals at world championships.\n",
      "Jamaica's women also win gold in the relay, beating France in the process.\n",
      "\n",
      "PEGASUS\n",
      "Usain Bolt wins third gold of world championships.\n",
      "Anchors Jamaica to victory in men's 4x100m relay.\n",
      "Eighth gold at the championships for Bolt.\n",
      "Jamaica also win women's 4x100m relay .\n",
      "\n"
     ]
    }
   ],
   "source": [
    "print(\"GROUND TRUTH\")\n",
    "print(dataset[\"train\"][1][\"highlights\"])\n",
    "print(\"\")\n",
    "\n",
    "for model_name in summaries:\n",
    "    print(model_name.upper())\n",
    "    print(summaries[model_name])\n",
    "    print(\"\")"
   ]
  },
  {
   "cell_type": "markdown",
   "metadata": {},
   "source": [
    "We *could* assess the performances of the different models by eyeballing some examples like the one above, but that's hardly scalable now, right? As such, researchers have come up with ways to systematically assess model performances.\n",
    "\n",
    "Let's check them out!"
   ]
  },
  {
   "cell_type": "markdown",
   "metadata": {},
   "source": [
    "## Measuring the Quality of Generated Text"
   ]
  },
  {
   "cell_type": "markdown",
   "metadata": {},
   "source": [
    "### BLEU"
   ]
  },
  {
   "cell_type": "code",
   "execution_count": 57,
   "metadata": {},
   "outputs": [
    {
     "data": {
      "application/vnd.jupyter.widget-view+json": {
       "model_id": "82d89ea576514d6592671e62601a6909",
       "version_major": 2,
       "version_minor": 0
      },
      "text/plain": [
       "Downloading builder script: 0.00B [00:00, ?B/s]"
      ]
     },
     "metadata": {},
     "output_type": "display_data"
    }
   ],
   "source": [
    "# from datasets import load_metric\n",
    "import evaluate\n",
    "bleu_metric = evaluate.load(\"sacrebleu\")"
   ]
  },
  {
   "cell_type": "code",
   "execution_count": 58,
   "metadata": {},
   "outputs": [
    {
     "data": {
      "text/html": [
       "<div>\n",
       "<style scoped>\n",
       "    .dataframe tbody tr th:only-of-type {\n",
       "        vertical-align: middle;\n",
       "    }\n",
       "\n",
       "    .dataframe tbody tr th {\n",
       "        vertical-align: top;\n",
       "    }\n",
       "\n",
       "    .dataframe thead th {\n",
       "        text-align: right;\n",
       "    }\n",
       "</style>\n",
       "<table border=\"1\" class=\"dataframe\">\n",
       "  <thead>\n",
       "    <tr style=\"text-align: right;\">\n",
       "      <th></th>\n",
       "      <th>Value</th>\n",
       "    </tr>\n",
       "  </thead>\n",
       "  <tbody>\n",
       "    <tr>\n",
       "      <th>score</th>\n",
       "      <td>0.0</td>\n",
       "    </tr>\n",
       "    <tr>\n",
       "      <th>counts</th>\n",
       "      <td>[2, 0, 0, 0]</td>\n",
       "    </tr>\n",
       "    <tr>\n",
       "      <th>totals</th>\n",
       "      <td>[6, 5, 4, 3]</td>\n",
       "    </tr>\n",
       "    <tr>\n",
       "      <th>precisions</th>\n",
       "      <td>[33.33, 0.0, 0.0, 0.0]</td>\n",
       "    </tr>\n",
       "    <tr>\n",
       "      <th>bp</th>\n",
       "      <td>1.0</td>\n",
       "    </tr>\n",
       "    <tr>\n",
       "      <th>sys_len</th>\n",
       "      <td>6</td>\n",
       "    </tr>\n",
       "    <tr>\n",
       "      <th>ref_len</th>\n",
       "      <td>6</td>\n",
       "    </tr>\n",
       "  </tbody>\n",
       "</table>\n",
       "</div>"
      ],
      "text/plain": [
       "                             Value\n",
       "score                          0.0\n",
       "counts                [2, 0, 0, 0]\n",
       "totals                [6, 5, 4, 3]\n",
       "precisions  [33.33, 0.0, 0.0, 0.0]\n",
       "bp                             1.0\n",
       "sys_len                          6\n",
       "ref_len                          6"
      ]
     },
     "execution_count": 58,
     "metadata": {},
     "output_type": "execute_result"
    }
   ],
   "source": [
    "import pandas as pd\n",
    "import numpy as np\n",
    "\n",
    "# get BLEU score for a prediction of \"the the the the the the\" against reference \"the cat is on the mat\"\n",
    "bleu_metric.add(prediction=\"the the the the the the\", reference=[\"the cat is on the mat\"])\n",
    "results = bleu_metric.compute(smooth_method=\"floor\", smooth_value=0)\n",
    "results[\"precisions\"] = [np.round(p, 2) for p in results[\"precisions\"]]\n",
    "pd.DataFrame.from_dict(results, orient=\"index\", columns=[\"Value\"])"
   ]
  },
  {
   "cell_type": "markdown",
   "metadata": {},
   "source": [
    "- `score` is the sacrebleu score; it is 0 which makes sense since the prediction is pretty bad.\n",
    "- `counts` contains the counts of matching 1-grams, 2-grams, 3-grams & 4-grams.\n",
    "- `totals` contains the total number of 1-grams, 2-grams, 3-grams & 4-grams in the reference.\n",
    "- `precisions` contains the precisions of matches (33.33% = 2/6 for 1-grams).\n",
    "- `sys_len` and `ref_len` are the number of words in the prediction and reference statements, respectively."
   ]
  },
  {
   "cell_type": "code",
   "execution_count": 59,
   "metadata": {},
   "outputs": [
    {
     "data": {
      "text/html": [
       "<div>\n",
       "<style scoped>\n",
       "    .dataframe tbody tr th:only-of-type {\n",
       "        vertical-align: middle;\n",
       "    }\n",
       "\n",
       "    .dataframe tbody tr th {\n",
       "        vertical-align: top;\n",
       "    }\n",
       "\n",
       "    .dataframe thead th {\n",
       "        text-align: right;\n",
       "    }\n",
       "</style>\n",
       "<table border=\"1\" class=\"dataframe\">\n",
       "  <thead>\n",
       "    <tr style=\"text-align: right;\">\n",
       "      <th></th>\n",
       "      <th>Value</th>\n",
       "    </tr>\n",
       "  </thead>\n",
       "  <tbody>\n",
       "    <tr>\n",
       "      <th>score</th>\n",
       "      <td>57.893007</td>\n",
       "    </tr>\n",
       "    <tr>\n",
       "      <th>counts</th>\n",
       "      <td>[5, 3, 2, 1]</td>\n",
       "    </tr>\n",
       "    <tr>\n",
       "      <th>totals</th>\n",
       "      <td>[5, 4, 3, 2]</td>\n",
       "    </tr>\n",
       "    <tr>\n",
       "      <th>precisions</th>\n",
       "      <td>[100.0, 75.0, 66.67, 50.0]</td>\n",
       "    </tr>\n",
       "    <tr>\n",
       "      <th>bp</th>\n",
       "      <td>0.818731</td>\n",
       "    </tr>\n",
       "    <tr>\n",
       "      <th>sys_len</th>\n",
       "      <td>5</td>\n",
       "    </tr>\n",
       "    <tr>\n",
       "      <th>ref_len</th>\n",
       "      <td>6</td>\n",
       "    </tr>\n",
       "  </tbody>\n",
       "</table>\n",
       "</div>"
      ],
      "text/plain": [
       "                                 Value\n",
       "score                        57.893007\n",
       "counts                    [5, 3, 2, 1]\n",
       "totals                    [5, 4, 3, 2]\n",
       "precisions  [100.0, 75.0, 66.67, 50.0]\n",
       "bp                            0.818731\n",
       "sys_len                              5\n",
       "ref_len                              6"
      ]
     },
     "execution_count": 59,
     "metadata": {},
     "output_type": "execute_result"
    }
   ],
   "source": [
    "# get BLEU score for a prediction of \"the cat is on mat\" against reference \"the cat is on the mat\"\n",
    "bleu_metric.add(prediction=\"the cat is on mat\", reference=[\"the cat is on the mat\"])\n",
    "results = bleu_metric.compute(smooth_method=\"floor\", smooth_value=0)\n",
    "results[\"precisions\"] = [np.round(p, 2) for p in results[\"precisions\"]]\n",
    "pd.DataFrame.from_dict(results, orient=\"index\", columns=[\"Value\"])"
   ]
  },
  {
   "cell_type": "markdown",
   "metadata": {},
   "source": [
    "For more on what the metrics, check out this link:\n",
    "https://github.com/mjpost/sacrebleu"
   ]
  },
  {
   "cell_type": "markdown",
   "metadata": {},
   "source": [
    "### ROUGE"
   ]
  },
  {
   "cell_type": "code",
   "execution_count": 61,
   "metadata": {},
   "outputs": [
    {
     "data": {
      "application/vnd.jupyter.widget-view+json": {
       "model_id": "9d7eb4a1eab449168738fa545d8cc2de",
       "version_major": 2,
       "version_minor": 0
      },
      "text/plain": [
       "Downloading builder script: 0.00B [00:00, ?B/s]"
      ]
     },
     "metadata": {},
     "output_type": "display_data"
    }
   ],
   "source": []
  },
  {
   "cell_type": "code",
   "execution_count": 65,
   "metadata": {},
   "outputs": [
    {
     "data": {
      "text/html": [
       "<div>\n",
       "<style scoped>\n",
       "    .dataframe tbody tr th:only-of-type {\n",
       "        vertical-align: middle;\n",
       "    }\n",
       "\n",
       "    .dataframe tbody tr th {\n",
       "        vertical-align: top;\n",
       "    }\n",
       "\n",
       "    .dataframe thead th {\n",
       "        text-align: right;\n",
       "    }\n",
       "</style>\n",
       "<table border=\"1\" class=\"dataframe\">\n",
       "  <thead>\n",
       "    <tr style=\"text-align: right;\">\n",
       "      <th></th>\n",
       "      <th>rouge1</th>\n",
       "      <th>rouge2</th>\n",
       "      <th>rougeL</th>\n",
       "      <th>rougeLsum</th>\n",
       "    </tr>\n",
       "  </thead>\n",
       "  <tbody>\n",
       "    <tr>\n",
       "      <th>baseline</th>\n",
       "      <td>0.335484</td>\n",
       "      <td>0.248366</td>\n",
       "      <td>0.296774</td>\n",
       "      <td>0.335484</td>\n",
       "    </tr>\n",
       "    <tr>\n",
       "      <th>gpt2</th>\n",
       "      <td>0.230769</td>\n",
       "      <td>0.026316</td>\n",
       "      <td>0.179487</td>\n",
       "      <td>0.179487</td>\n",
       "    </tr>\n",
       "    <tr>\n",
       "      <th>t5</th>\n",
       "      <td>0.575342</td>\n",
       "      <td>0.450704</td>\n",
       "      <td>0.547945</td>\n",
       "      <td>0.575342</td>\n",
       "    </tr>\n",
       "    <tr>\n",
       "      <th>bart</th>\n",
       "      <td>0.717391</td>\n",
       "      <td>0.511111</td>\n",
       "      <td>0.652174</td>\n",
       "      <td>0.717391</td>\n",
       "    </tr>\n",
       "  </tbody>\n",
       "</table>\n",
       "</div>"
      ],
      "text/plain": [
       "            rouge1    rouge2    rougeL  rougeLsum\n",
       "baseline  0.335484  0.248366  0.296774   0.335484\n",
       "gpt2      0.230769  0.026316  0.179487   0.179487\n",
       "t5        0.575342  0.450704  0.547945   0.575342\n",
       "bart      0.717391  0.511111  0.652174   0.717391"
      ]
     },
     "execution_count": 65,
     "metadata": {},
     "output_type": "execute_result"
    }
   ],
   "source": [
    "reference = dataset[\"train\"][0][\"highlights\"]\n",
    "records = []\n",
    "rouge_names = [\"rouge1\", \"rouge2\", \"rougeL\", \"rougeLsum\"]\n",
    "\n",
    "for model_name in summaries:\n",
    "    rouge_metric = evaluate.load(\"rouge\")\n",
    "    rouge_metric.add(prediction=summaries[model_name], reference=reference)\n",
    "    score = rouge_metric.compute()\n",
    "    # rouge_dict = dict((rn, score[rn].mid.fmeasure) for rn in rouge_names)\n",
    "    rouge_dict = {rn: float(score[rn]) for rn in rouge_names}\n",
    "    records.append(rouge_dict)\n",
    "pd.DataFrame.from_records(records, index=summaries.keys())"
   ]
  },
  {
   "cell_type": "markdown",
   "metadata": {},
   "source": [
    "## Evaluating PEGASUS on the CNN/DailyMail Dataset"
   ]
  },
  {
   "cell_type": "code",
   "execution_count": null,
   "metadata": {},
   "outputs": [],
   "source": [
    "# # hide\n",
    "# # ignore this cell it is only to be able to start running the notebook here\n",
    "# import matplotlib.pyplot as plt\n",
    "# import pandas as pd\n",
    "# from datasets import load_dataset, load_metric\n",
    "# from transformers import AutoModelForSeq2SeqLM, AutoTokenizer\n",
    "\n",
    "# dataset = load_dataset(\"cnn_dailymail\", version=\"3.0.0\")\n",
    "# rouge_metric = load_metric(\"rouge\", cache_dir=None)\n",
    "# rouge_names = [\"rouge1\", \"rouge2\", \"rougeL\", \"rougeLsum\"]"
   ]
  },
  {
   "cell_type": "code",
   "execution_count": 69,
   "metadata": {},
   "outputs": [],
   "source": [
    "def evaluate_summaries_baseline(dataset, metric,\n",
    "                                column_text=\"article\", \n",
    "                                column_summary=\"highlights\"):\n",
    "    summaries = [three_sentence_summary(text) for text in dataset[column_text]]\n",
    "    metric.add_batch(predictions=summaries,\n",
    "                     references=dataset[column_summary])    \n",
    "    score = metric.compute()\n",
    "    return score"
   ]
  },
  {
   "cell_type": "code",
   "execution_count": null,
   "metadata": {},
   "outputs": [],
   "source": [
    "test_sampled = dataset[\"test\"].shuffle(seed=42).select(range(1000))\n",
    "\n",
    "score = evaluate_summaries_baseline(test_sampled, rouge_metric)\n",
    "rouge_dict = dict((rn, score[rn].mid.fmeasure) for rn in rouge_names)\n",
    "pd.DataFrame.from_dict(rouge_dict, orient=\"index\", columns=[\"baseline\"]).T"
   ]
  },
  {
   "cell_type": "code",
   "execution_count": null,
   "metadata": {},
   "outputs": [],
   "source": [
    "from tqdm import tqdm\n",
    "import torch\n",
    "\n",
    "device = \"cuda\" if torch.cuda.is_available() else \"cpu\"\n",
    "\n",
    "def chunks(list_of_elements, batch_size):\n",
    "    \"\"\"Yield successive batch-sized chunks from list_of_elements.\"\"\"\n",
    "    for i in range(0, len(list_of_elements), batch_size):\n",
    "        yield list_of_elements[i : i + batch_size]\n",
    "\n",
    "def evaluate_summaries_pegasus(dataset, metric, model, tokenizer, \n",
    "                               batch_size=16, device=device, \n",
    "                               column_text=\"article\", \n",
    "                               column_summary=\"highlights\"):\n",
    "    article_batches = list(chunks(dataset[column_text], batch_size))\n",
    "    target_batches = list(chunks(dataset[column_summary], batch_size))\n",
    "\n",
    "    for article_batch, target_batch in tqdm(\n",
    "        zip(article_batches, target_batches), total=len(article_batches)):\n",
    "        \n",
    "        inputs = tokenizer(article_batch, max_length=1024,  truncation=True, \n",
    "                        padding=\"max_length\", return_tensors=\"pt\")\n",
    "        \n",
    "        summaries = model.generate(input_ids=inputs[\"input_ids\"].to(device),\n",
    "                         attention_mask=inputs[\"attention_mask\"].to(device), \n",
    "                         length_penalty=0.8, num_beams=8, max_length=128)\n",
    "        \n",
    "        decoded_summaries = [tokenizer.decode(s, skip_special_tokens=True, \n",
    "                                clean_up_tokenization_spaces=True) \n",
    "               for s in summaries]\n",
    "        decoded_summaries = [d.replace(\"<n>\", \" \") for d in decoded_summaries]\n",
    "        metric.add_batch(predictions=decoded_summaries, references=target_batch)\n",
    "        \n",
    "    score = metric.compute()\n",
    "    return score"
   ]
  },
  {
   "cell_type": "code",
   "execution_count": null,
   "metadata": {},
   "outputs": [
    {
     "name": "stderr",
     "output_type": "stream",
     "text": [
      "100%|██████████████████████████████████████████████████████████████████████████| 125/125 [10:39<00:00,  5.11s/it]\n"
     ]
    },
    {
     "data": {
      "text/html": [
       "<div>\n",
       "<style scoped>\n",
       "    .dataframe tbody tr th:only-of-type {\n",
       "        vertical-align: middle;\n",
       "    }\n",
       "\n",
       "    .dataframe tbody tr th {\n",
       "        vertical-align: top;\n",
       "    }\n",
       "\n",
       "    .dataframe thead th {\n",
       "        text-align: right;\n",
       "    }\n",
       "</style>\n",
       "<table border=\"1\" class=\"dataframe\">\n",
       "  <thead>\n",
       "    <tr style=\"text-align: right;\">\n",
       "      <th></th>\n",
       "      <th>rouge1</th>\n",
       "      <th>rouge2</th>\n",
       "      <th>rougeL</th>\n",
       "      <th>rougeLsum</th>\n",
       "    </tr>\n",
       "  </thead>\n",
       "  <tbody>\n",
       "    <tr>\n",
       "      <th>pegasus</th>\n",
       "      <td>0.434381</td>\n",
       "      <td>0.210883</td>\n",
       "      <td>0.307195</td>\n",
       "      <td>0.373231</td>\n",
       "    </tr>\n",
       "  </tbody>\n",
       "</table>\n",
       "</div>"
      ],
      "text/plain": [
       "           rouge1    rouge2    rougeL  rougeLsum\n",
       "pegasus  0.434381  0.210883  0.307195   0.373231"
      ]
     },
     "execution_count": null,
     "metadata": {},
     "output_type": "execute_result"
    }
   ],
   "source": [
    "# hide_output\n",
    "from transformers import AutoModelForSeq2SeqLM, AutoTokenizer\n",
    "\n",
    "model_ckpt = \"google/pegasus-cnn_dailymail\"\n",
    "tokenizer = AutoTokenizer.from_pretrained(model_ckpt)\n",
    "model = AutoModelForSeq2SeqLM.from_pretrained(model_ckpt).to(device)\n",
    "score = evaluate_summaries_pegasus(test_sampled, rouge_metric, \n",
    "                                   model, tokenizer, batch_size=8)\n",
    "rouge_dict = dict((rn, score[rn].mid.fmeasure) for rn in rouge_names)\n",
    "pd.DataFrame(rouge_dict, index=[\"pegasus\"])"
   ]
  },
  {
   "cell_type": "code",
   "execution_count": null,
   "metadata": {},
   "outputs": [
    {
     "data": {
      "text/html": [
       "<div>\n",
       "<style scoped>\n",
       "    .dataframe tbody tr th:only-of-type {\n",
       "        vertical-align: middle;\n",
       "    }\n",
       "\n",
       "    .dataframe tbody tr th {\n",
       "        vertical-align: top;\n",
       "    }\n",
       "\n",
       "    .dataframe thead th {\n",
       "        text-align: right;\n",
       "    }\n",
       "</style>\n",
       "<table border=\"1\" class=\"dataframe\">\n",
       "  <thead>\n",
       "    <tr style=\"text-align: right;\">\n",
       "      <th></th>\n",
       "      <th>rouge1</th>\n",
       "      <th>rouge2</th>\n",
       "      <th>rougeL</th>\n",
       "      <th>rougeLsum</th>\n",
       "    </tr>\n",
       "  </thead>\n",
       "  <tbody>\n",
       "    <tr>\n",
       "      <th>pegasus</th>\n",
       "      <td>0.434381</td>\n",
       "      <td>0.210883</td>\n",
       "      <td>0.307195</td>\n",
       "      <td>0.373231</td>\n",
       "    </tr>\n",
       "  </tbody>\n",
       "</table>\n",
       "</div>"
      ],
      "text/plain": [
       "           rouge1    rouge2    rougeL  rougeLsum\n",
       "pegasus  0.434381  0.210883  0.307195   0.373231"
      ]
     },
     "execution_count": null,
     "metadata": {},
     "output_type": "execute_result"
    }
   ],
   "source": [
    "# hide_input \n",
    "pd.DataFrame(rouge_dict, index=[\"pegasus\"])"
   ]
  },
  {
   "cell_type": "markdown",
   "metadata": {},
   "source": [
    "## Training a Summarization Model"
   ]
  },
  {
   "cell_type": "code",
   "execution_count": null,
   "metadata": {},
   "outputs": [],
   "source": [
    "# hide_output\n",
    "dataset_samsum = load_dataset(\"samsum\")\n",
    "split_lengths = [len(dataset_samsum[split])for split in dataset_samsum]\n",
    "\n",
    "print(f\"Split lengths: {split_lengths}\")\n",
    "print(f\"Features: {dataset_samsum['train'].column_names}\")\n",
    "print(\"\\nDialogue:\")\n",
    "print(dataset_samsum[\"test\"][0][\"dialogue\"])\n",
    "print(\"\\nSummary:\")\n",
    "print(dataset_samsum[\"test\"][0][\"summary\"])"
   ]
  },
  {
   "cell_type": "code",
   "execution_count": null,
   "metadata": {},
   "outputs": [
    {
     "name": "stdout",
     "output_type": "stream",
     "text": [
      "Split lengths: [14732, 819, 818]\n",
      "Features: ['id', 'dialogue', 'summary']\n",
      "\n",
      "Dialogue:\n",
      "Hannah: Hey, do you have Betty's number?\n",
      "Amanda: Lemme check\n",
      "Hannah: <file_gif>\n",
      "Amanda: Sorry, can't find it.\n",
      "Amanda: Ask Larry\n",
      "Amanda: He called her last time we were at the park together\n",
      "Hannah: I don't know him well\n",
      "Hannah: <file_gif>\n",
      "Amanda: Don't be shy, he's very nice\n",
      "Hannah: If you say so..\n",
      "Hannah: I'd rather you texted him\n",
      "Amanda: Just text him 🙂\n",
      "Hannah: Urgh.. Alright\n",
      "Hannah: Bye\n",
      "Amanda: Bye bye\n",
      "\n",
      "Summary:\n",
      "Hannah needs Betty's number but Amanda doesn't have it. She needs to contact\n",
      "Larry.\n"
     ]
    }
   ],
   "source": [
    "# hide_input\n",
    "print(f\"Split lengths: {split_lengths}\")\n",
    "print(f\"Features: {dataset_samsum['train'].column_names}\")\n",
    "print(\"\\nDialogue:\")\n",
    "print(dataset_samsum[\"test\"][0][\"dialogue\"])\n",
    "print(\"\\nSummary:\")\n",
    "print(dataset_samsum[\"test\"][0][\"summary\"])"
   ]
  },
  {
   "cell_type": "markdown",
   "metadata": {},
   "source": [
    "### Evaluating PEGASUS on SAMSum"
   ]
  },
  {
   "cell_type": "code",
   "execution_count": null,
   "metadata": {},
   "outputs": [
    {
     "name": "stdout",
     "output_type": "stream",
     "text": [
      "Summary:\n",
      "Amanda: Ask Larry Amanda: He called her last time we were at the park together.\n",
      "Hannah: I'd rather you texted him.\n",
      "Amanda: Just text him .\n"
     ]
    }
   ],
   "source": [
    "pipe_out = pipe(dataset_samsum[\"test\"][0][\"dialogue\"])\n",
    "print(\"Summary:\")\n",
    "print(pipe_out[0][\"summary_text\"].replace(\" .<n>\", \".\\n\"))"
   ]
  },
  {
   "cell_type": "code",
   "execution_count": null,
   "metadata": {},
   "outputs": [
    {
     "name": "stderr",
     "output_type": "stream",
     "text": [
      "100%|██████████████████████████████████████████████████████████████████████████| 103/103 [07:48<00:00,  4.55s/it]\n"
     ]
    },
    {
     "data": {
      "text/html": [
       "<div>\n",
       "<style scoped>\n",
       "    .dataframe tbody tr th:only-of-type {\n",
       "        vertical-align: middle;\n",
       "    }\n",
       "\n",
       "    .dataframe tbody tr th {\n",
       "        vertical-align: top;\n",
       "    }\n",
       "\n",
       "    .dataframe thead th {\n",
       "        text-align: right;\n",
       "    }\n",
       "</style>\n",
       "<table border=\"1\" class=\"dataframe\">\n",
       "  <thead>\n",
       "    <tr style=\"text-align: right;\">\n",
       "      <th></th>\n",
       "      <th>rouge1</th>\n",
       "      <th>rouge2</th>\n",
       "      <th>rougeL</th>\n",
       "      <th>rougeLsum</th>\n",
       "    </tr>\n",
       "  </thead>\n",
       "  <tbody>\n",
       "    <tr>\n",
       "      <th>pegasus</th>\n",
       "      <td>0.296168</td>\n",
       "      <td>0.087803</td>\n",
       "      <td>0.229604</td>\n",
       "      <td>0.229514</td>\n",
       "    </tr>\n",
       "  </tbody>\n",
       "</table>\n",
       "</div>"
      ],
      "text/plain": [
       "           rouge1    rouge2    rougeL  rougeLsum\n",
       "pegasus  0.296168  0.087803  0.229604   0.229514"
      ]
     },
     "execution_count": null,
     "metadata": {},
     "output_type": "execute_result"
    }
   ],
   "source": [
    "# hide_output\n",
    "score = evaluate_summaries_pegasus(dataset_samsum[\"test\"], rouge_metric, model,\n",
    "                                   tokenizer, column_text=\"dialogue\",\n",
    "                                   column_summary=\"summary\", batch_size=8)\n",
    "\n",
    "rouge_dict = dict((rn, score[rn].mid.fmeasure) for rn in rouge_names)\n",
    "pd.DataFrame(rouge_dict, index=[\"pegasus\"])"
   ]
  },
  {
   "cell_type": "code",
   "execution_count": null,
   "metadata": {},
   "outputs": [
    {
     "data": {
      "text/html": [
       "<div>\n",
       "<style scoped>\n",
       "    .dataframe tbody tr th:only-of-type {\n",
       "        vertical-align: middle;\n",
       "    }\n",
       "\n",
       "    .dataframe tbody tr th {\n",
       "        vertical-align: top;\n",
       "    }\n",
       "\n",
       "    .dataframe thead th {\n",
       "        text-align: right;\n",
       "    }\n",
       "</style>\n",
       "<table border=\"1\" class=\"dataframe\">\n",
       "  <thead>\n",
       "    <tr style=\"text-align: right;\">\n",
       "      <th></th>\n",
       "      <th>rouge1</th>\n",
       "      <th>rouge2</th>\n",
       "      <th>rougeL</th>\n",
       "      <th>rougeLsum</th>\n",
       "    </tr>\n",
       "  </thead>\n",
       "  <tbody>\n",
       "    <tr>\n",
       "      <th>pegasus</th>\n",
       "      <td>0.296168</td>\n",
       "      <td>0.087803</td>\n",
       "      <td>0.229604</td>\n",
       "      <td>0.229514</td>\n",
       "    </tr>\n",
       "  </tbody>\n",
       "</table>\n",
       "</div>"
      ],
      "text/plain": [
       "           rouge1    rouge2    rougeL  rougeLsum\n",
       "pegasus  0.296168  0.087803  0.229604   0.229514"
      ]
     },
     "execution_count": null,
     "metadata": {},
     "output_type": "execute_result"
    }
   ],
   "source": [
    "# hide_input\n",
    "pd.DataFrame(rouge_dict, index=[\"pegasus\"])"
   ]
  },
  {
   "cell_type": "markdown",
   "metadata": {},
   "source": [
    "### Fine-Tuning PEGASUS"
   ]
  },
  {
   "cell_type": "code",
   "execution_count": null,
   "metadata": {},
   "outputs": [
    {
     "data": {
      "application/pdf": "[encoded data removed]",
      "image/svg+xml": [
       "<?xml version=\"1.0\" encoding=\"utf-8\" standalone=\"no\"?>\n",
       "<!DOCTYPE svg PUBLIC \"-//W3C//DTD SVG 1.1//EN\"\n",
       "  \"http://www.w3.org/Graphics/SVG/1.1/DTD/svg11.dtd\">\n",
       "<svg height=\"242.274875pt\" version=\"1.1\" viewBox=\"0 0 709.65375 242.274875\" width=\"709.65375pt\" xmlns=\"http://www.w3.org/2000/svg\" xmlns:xlink=\"http://www.w3.org/1999/xlink\">\n",
       " <metadata>\n",
       "  <rdf:RDF xmlns:cc=\"http://creativecommons.org/ns#\" xmlns:dc=\"http://purl.org/dc/elements/1.1/\" xmlns:rdf=\"http://www.w3.org/1999/02/22-rdf-syntax-ns#\">\n",
       "   <cc:Work>\n",
       "    <dc:type rdf:resource=\"http://purl.org/dc/dcmitype/StillImage\"/>\n",
       "    <dc:date>2021-10-26T10:02:50.883652</dc:date>\n",
       "    <dc:format>image/svg+xml</dc:format>\n",
       "    <dc:creator>\n",
       "     <cc:Agent>\n",
       "      <dc:title>Matplotlib v3.4.3, https://matplotlib.org/</dc:title>\n",
       "     </cc:Agent>\n",
       "    </dc:creator>\n",
       "   </cc:Work>\n",
       "  </rdf:RDF>\n",
       " </metadata>\n",
       " <defs>\n",
       "  <style type=\"text/css\">*{stroke-linecap:butt;stroke-linejoin:round;}</style>\n",
       " </defs>\n",
       " <g id=\"figure_1\">\n",
       "  <g id=\"patch_1\">\n",
       "   <path d=\"M 0 242.274875 \n",
       "L 709.65375 242.274875 \n",
       "L 709.65375 0 \n",
       "L 0 0 \n",
       "z\n",
       "\" style=\"fill:none;\"/>\n",
       "  </g>\n",
       "  <g id=\"axes_1\">\n",
       "   <g id=\"patch_2\">\n",
       "    <path d=\"M 54.24875 201.8505 \n",
       "L 370.12125 201.8505 \n",
       "L 370.12125 23.7705 \n",
       "L 54.24875 23.7705 \n",
       "z\n",
       "\" style=\"fill:#ffffff;\"/>\n",
       "   </g>\n",
       "   <g id=\"patch_3\">\n",
       "    <path clip-path=\"url(#p2dbc2aca47)\" d=\"M 68.606591 201.8505 \n",
       "L 82.964432 201.8505 \n",
       "L 82.964432 73.317551 \n",
       "L 68.606591 73.317551 \n",
       "z\n",
       "\" style=\"fill:#0071bc;stroke:#0071bc;stroke-linejoin:miter;\"/>\n",
       "   </g>\n",
       "   <g id=\"patch_4\">\n",
       "    <path clip-path=\"url(#p2dbc2aca47)\" d=\"M 82.964432 201.8505 \n",
       "L 97.322273 201.8505 \n",
       "L 97.322273 32.2505 \n",
       "L 82.964432 32.2505 \n",
       "z\n",
       "\" style=\"fill:#0071bc;stroke:#0071bc;stroke-linejoin:miter;\"/>\n",
       "   </g>\n",
       "   <g id=\"patch_5\">\n",
       "    <path clip-path=\"url(#p2dbc2aca47)\" d=\"M 97.322273 201.8505 \n",
       "L 111.680114 201.8505 \n",
       "L 111.680114 88.214023 \n",
       "L 97.322273 88.214023 \n",
       "z\n",
       "\" style=\"fill:#0071bc;stroke:#0071bc;stroke-linejoin:miter;\"/>\n",
       "   </g>\n",
       "   <g id=\"patch_6\">\n",
       "    <path clip-path=\"url(#p2dbc2aca47)\" d=\"M 111.680114 201.8505 \n",
       "L 126.037955 201.8505 \n",
       "L 126.037955 123.379466 \n",
       "L 111.680114 123.379466 \n",
       "z\n",
       "\" style=\"fill:#0071bc;stroke:#0071bc;stroke-linejoin:miter;\"/>\n",
       "   </g>\n",
       "   <g id=\"patch_7\">\n",
       "    <path clip-path=\"url(#p2dbc2aca47)\" d=\"M 126.037955 201.8505 \n",
       "L 140.395795 201.8505 \n",
       "L 140.395795 155.166747 \n",
       "L 126.037955 155.166747 \n",
       "z\n",
       "\" style=\"fill:#0071bc;stroke:#0071bc;stroke-linejoin:miter;\"/>\n",
       "   </g>\n",
       "   <g id=\"patch_8\">\n",
       "    <path clip-path=\"url(#p2dbc2aca47)\" d=\"M 140.395795 201.8505 \n",
       "L 154.753636 201.8505 \n",
       "L 154.753636 174.743805 \n",
       "L 140.395795 174.743805 \n",
       "z\n",
       "\" style=\"fill:#0071bc;stroke:#0071bc;stroke-linejoin:miter;\"/>\n",
       "   </g>\n",
       "   <g id=\"patch_9\">\n",
       "    <path clip-path=\"url(#p2dbc2aca47)\" d=\"M 154.753636 201.8505 \n",
       "L 169.111477 201.8505 \n",
       "L 169.111477 185.407399 \n",
       "L 154.753636 185.407399 \n",
       "z\n",
       "\" style=\"fill:#0071bc;stroke:#0071bc;stroke-linejoin:miter;\"/>\n",
       "   </g>\n",
       "   <g id=\"patch_10\">\n",
       "    <path clip-path=\"url(#p2dbc2aca47)\" d=\"M 169.111477 201.8505 \n",
       "L 183.469318 201.8505 \n",
       "L 183.469318 193.303344 \n",
       "L 169.111477 193.303344 \n",
       "z\n",
       "\" style=\"fill:#0071bc;stroke:#0071bc;stroke-linejoin:miter;\"/>\n",
       "   </g>\n",
       "   <g id=\"patch_11\">\n",
       "    <path clip-path=\"url(#p2dbc2aca47)\" d=\"M 183.469318 201.8505 \n",
       "L 197.827159 201.8505 \n",
       "L 197.827159 197.658323 \n",
       "L 183.469318 197.658323 \n",
       "z\n",
       "\" style=\"fill:#0071bc;stroke:#0071bc;stroke-linejoin:miter;\"/>\n",
       "   </g>\n",
       "   <g id=\"patch_12\">\n",
       "    <path clip-path=\"url(#p2dbc2aca47)\" d=\"M 197.827159 201.8505 \n",
       "L 212.185 201.8505 \n",
       "L 212.185 198.838645 \n",
       "L 197.827159 198.838645 \n",
       "z\n",
       "\" style=\"fill:#0071bc;stroke:#0071bc;stroke-linejoin:miter;\"/>\n",
       "   </g>\n",
       "   <g id=\"patch_13\">\n",
       "    <path clip-path=\"url(#p2dbc2aca47)\" d=\"M 212.185 201.8505 \n",
       "L 226.542841 201.8505 \n",
       "L 226.542841 200.425974 \n",
       "L 212.185 200.425974 \n",
       "z\n",
       "\" style=\"fill:#0071bc;stroke:#0071bc;stroke-linejoin:miter;\"/>\n",
       "   </g>\n",
       "   <g id=\"patch_14\">\n",
       "    <path clip-path=\"url(#p2dbc2aca47)\" d=\"M 226.542841 201.8505 \n",
       "L 240.900682 201.8505 \n",
       "L 240.900682 200.873682 \n",
       "L 226.542841 200.873682 \n",
       "z\n",
       "\" style=\"fill:#0071bc;stroke:#0071bc;stroke-linejoin:miter;\"/>\n",
       "   </g>\n",
       "   <g id=\"patch_15\">\n",
       "    <path clip-path=\"url(#p2dbc2aca47)\" d=\"M 240.900682 201.8505 \n",
       "L 255.258523 201.8505 \n",
       "L 255.258523 201.443493 \n",
       "L 240.900682 201.443493 \n",
       "z\n",
       "\" style=\"fill:#0071bc;stroke:#0071bc;stroke-linejoin:miter;\"/>\n",
       "   </g>\n",
       "   <g id=\"patch_16\">\n",
       "    <path clip-path=\"url(#p2dbc2aca47)\" d=\"M 255.258523 201.8505 \n",
       "L 269.616364 201.8505 \n",
       "L 269.616364 201.565595 \n",
       "L 255.258523 201.565595 \n",
       "z\n",
       "\" style=\"fill:#0071bc;stroke:#0071bc;stroke-linejoin:miter;\"/>\n",
       "   </g>\n",
       "   <g id=\"patch_17\">\n",
       "    <path clip-path=\"url(#p2dbc2aca47)\" d=\"M 269.616364 201.8505 \n",
       "L 283.974205 201.8505 \n",
       "L 283.974205 201.769099 \n",
       "L 269.616364 201.769099 \n",
       "z\n",
       "\" style=\"fill:#0071bc;stroke:#0071bc;stroke-linejoin:miter;\"/>\n",
       "   </g>\n",
       "   <g id=\"patch_18\">\n",
       "    <path clip-path=\"url(#p2dbc2aca47)\" d=\"M 283.974205 201.8505 \n",
       "L 298.332045 201.8505 \n",
       "L 298.332045 201.769099 \n",
       "L 283.974205 201.769099 \n",
       "z\n",
       "\" style=\"fill:#0071bc;stroke:#0071bc;stroke-linejoin:miter;\"/>\n",
       "   </g>\n",
       "   <g id=\"patch_19\">\n",
       "    <path clip-path=\"url(#p2dbc2aca47)\" d=\"M 298.332045 201.8505 \n",
       "L 312.689886 201.8505 \n",
       "L 312.689886 201.809799 \n",
       "L 298.332045 201.809799 \n",
       "z\n",
       "\" style=\"fill:#0071bc;stroke:#0071bc;stroke-linejoin:miter;\"/>\n",
       "   </g>\n",
       "   <g id=\"patch_20\">\n",
       "    <path clip-path=\"url(#p2dbc2aca47)\" d=\"M 312.689886 201.8505 \n",
       "L 327.047727 201.8505 \n",
       "L 327.047727 201.809799 \n",
       "L 312.689886 201.809799 \n",
       "z\n",
       "\" style=\"fill:#0071bc;stroke:#0071bc;stroke-linejoin:miter;\"/>\n",
       "   </g>\n",
       "   <g id=\"patch_21\">\n",
       "    <path clip-path=\"url(#p2dbc2aca47)\" d=\"M 327.047727 201.8505 \n",
       "L 341.405568 201.8505 \n",
       "L 341.405568 201.8505 \n",
       "L 327.047727 201.8505 \n",
       "z\n",
       "\" style=\"fill:#0071bc;stroke:#0071bc;stroke-linejoin:miter;\"/>\n",
       "   </g>\n",
       "   <g id=\"patch_22\">\n",
       "    <path clip-path=\"url(#p2dbc2aca47)\" d=\"M 341.405568 201.8505 \n",
       "L 355.763409 201.8505 \n",
       "L 355.763409 201.809799 \n",
       "L 341.405568 201.809799 \n",
       "z\n",
       "\" style=\"fill:#0071bc;stroke:#0071bc;stroke-linejoin:miter;\"/>\n",
       "   </g>\n",
       "   <g id=\"matplotlib.axis_1\">\n",
       "    <g id=\"xtick_1\">\n",
       "     <g id=\"line2d_1\">\n",
       "      <defs>\n",
       "       <path d=\"M 0 0 \n",
       "L 0 3.5 \n",
       "\" id=\"mccc0f7301f\" style=\"stroke:#000000;stroke-width:0.8;\"/>\n",
       "      </defs>\n",
       "      <g>\n",
       "       <use style=\"stroke:#000000;stroke-width:0.8;\" x=\"68.331273\" xlink:href=\"#mccc0f7301f\" y=\"201.8505\"/>\n",
       "      </g>\n",
       "     </g>\n",
       "     <g id=\"text_1\">\n",
       "      <!-- 0 -->\n",
       "      <g transform=\"translate(65.121273 217.65925)scale(0.12 -0.12)\">\n",
       "       <defs>\n",
       "        <path d=\"M 1722 -70 \n",
       "C 2656 -70 3155 646 3155 2061 \n",
       "L 3155 2406 \n",
       "C 3155 3891 2598 4499 1715 4499 \n",
       "C 819 4499 269 3834 269 2368 \n",
       "L 269 2042 \n",
       "C 269 499 845 -70 1722 -70 \n",
       "z\n",
       "M 1728 384 \n",
       "C 1069 384 845 979 845 2016 \n",
       "L 845 2490 \n",
       "C 845 3494 1088 4051 1709 4051 \n",
       "C 2336 4051 2592 3514 2592 2458 \n",
       "L 2592 1978 \n",
       "C 2592 934 2374 384 1728 384 \n",
       "z\n",
       "\" id=\"GuardianSansCond-Regular-30\" transform=\"scale(0.015625)\"/>\n",
       "       </defs>\n",
       "       <use xlink:href=\"#GuardianSansCond-Regular-30\"/>\n",
       "      </g>\n",
       "     </g>\n",
       "    </g>\n",
       "    <g id=\"xtick_2\">\n",
       "     <g id=\"line2d_2\">\n",
       "      <g>\n",
       "       <use style=\"stroke:#000000;stroke-width:0.8;\" x=\"123.3949\" xlink:href=\"#mccc0f7301f\" y=\"201.8505\"/>\n",
       "      </g>\n",
       "     </g>\n",
       "     <g id=\"text_2\">\n",
       "      <!-- 200 -->\n",
       "      <g transform=\"translate(114.4249 217.65925)scale(0.12 -0.12)\">\n",
       "       <defs>\n",
       "        <path d=\"M 173 0 \n",
       "L 2470 0 \n",
       "L 2470 461 \n",
       "L 800 461 \n",
       "L 800 480 \n",
       "L 1574 1421 \n",
       "C 2067 2035 2419 2528 2419 3264 \n",
       "C 2419 4026 2029 4499 1222 4499 \n",
       "C 806 4499 499 4410 269 4282 \n",
       "L 269 3853 \n",
       "C 467 3949 730 4032 1056 4032 \n",
       "C 1619 4032 1850 3750 1850 3213 \n",
       "C 1850 2630 1542 2189 1152 1670 \n",
       "L 173 397 \n",
       "L 173 0 \n",
       "z\n",
       "\" id=\"GuardianSansCond-Regular-32\" transform=\"scale(0.015625)\"/>\n",
       "       </defs>\n",
       "       <use xlink:href=\"#GuardianSansCond-Regular-32\"/>\n",
       "       <use x=\"42.499985\" xlink:href=\"#GuardianSansCond-Regular-30\"/>\n",
       "       <use x=\"95.999969\" xlink:href=\"#GuardianSansCond-Regular-30\"/>\n",
       "      </g>\n",
       "     </g>\n",
       "    </g>\n",
       "    <g id=\"xtick_3\">\n",
       "     <g id=\"line2d_3\">\n",
       "      <g>\n",
       "       <use style=\"stroke:#000000;stroke-width:0.8;\" x=\"178.458528\" xlink:href=\"#mccc0f7301f\" y=\"201.8505\"/>\n",
       "      </g>\n",
       "     </g>\n",
       "     <g id=\"text_3\">\n",
       "      <!-- 400 -->\n",
       "      <g transform=\"translate(169.194153 217.65925)scale(0.12 -0.12)\">\n",
       "       <defs>\n",
       "        <path d=\"M 1805 0 \n",
       "L 2330 0 \n",
       "L 2330 1107 \n",
       "L 2957 1107 \n",
       "L 2957 1562 \n",
       "L 2330 1562 \n",
       "L 2330 4435 \n",
       "L 1869 4435 \n",
       "L 70 1504 \n",
       "L 70 1107 \n",
       "L 1805 1107 \n",
       "L 1805 0 \n",
       "z\n",
       "M 608 1562 \n",
       "L 608 1581 \n",
       "L 1779 3475 \n",
       "L 1805 3475 \n",
       "L 1805 1562 \n",
       "L 608 1562 \n",
       "z\n",
       "\" id=\"GuardianSansCond-Regular-34\" transform=\"scale(0.015625)\"/>\n",
       "       </defs>\n",
       "       <use xlink:href=\"#GuardianSansCond-Regular-34\"/>\n",
       "       <use x=\"47.399994\" xlink:href=\"#GuardianSansCond-Regular-30\"/>\n",
       "       <use x=\"100.899979\" xlink:href=\"#GuardianSansCond-Regular-30\"/>\n",
       "      </g>\n",
       "     </g>\n",
       "    </g>\n",
       "    <g id=\"xtick_4\">\n",
       "     <g id=\"line2d_4\">\n",
       "      <g>\n",
       "       <use style=\"stroke:#000000;stroke-width:0.8;\" x=\"233.522156\" xlink:href=\"#mccc0f7301f\" y=\"201.8505\"/>\n",
       "      </g>\n",
       "     </g>\n",
       "     <g id=\"text_4\">\n",
       "      <!-- 600 -->\n",
       "      <g transform=\"translate(224.167781 217.65925)scale(0.12 -0.12)\">\n",
       "       <defs>\n",
       "        <path d=\"M 1632 384 \n",
       "C 1082 384 845 915 845 1837 \n",
       "L 845 2054 \n",
       "C 992 2150 1254 2278 1594 2278 \n",
       "C 2086 2278 2323 1984 2323 1357 \n",
       "C 2323 742 2086 384 1632 384 \n",
       "z\n",
       "M 1632 -70 \n",
       "C 2438 -70 2886 544 2886 1408 \n",
       "C 2886 2234 2490 2746 1754 2746 \n",
       "C 1363 2746 1056 2611 845 2445 \n",
       "C 877 3853 1440 4038 2029 4038 \n",
       "C 2291 4038 2554 3974 2688 3930 \n",
       "L 2688 4352 \n",
       "C 2547 4442 2272 4499 1958 4499 \n",
       "C 1043 4499 275 3981 275 2208 \n",
       "L 275 1843 \n",
       "C 275 691 717 -70 1632 -70 \n",
       "z\n",
       "\" id=\"GuardianSansCond-Regular-36\" transform=\"scale(0.015625)\"/>\n",
       "       </defs>\n",
       "       <use xlink:href=\"#GuardianSansCond-Regular-36\"/>\n",
       "       <use x=\"48.899994\" xlink:href=\"#GuardianSansCond-Regular-30\"/>\n",
       "       <use x=\"102.399979\" xlink:href=\"#GuardianSansCond-Regular-30\"/>\n",
       "      </g>\n",
       "     </g>\n",
       "    </g>\n",
       "    <g id=\"xtick_5\">\n",
       "     <g id=\"line2d_5\">\n",
       "      <g>\n",
       "       <use style=\"stroke:#000000;stroke-width:0.8;\" x=\"288.585783\" xlink:href=\"#mccc0f7301f\" y=\"201.8505\"/>\n",
       "      </g>\n",
       "     </g>\n",
       "     <g id=\"text_5\">\n",
       "      <!-- 800 -->\n",
       "      <g transform=\"translate(279.201408 217.65925)scale(0.12 -0.12)\">\n",
       "       <defs>\n",
       "        <path d=\"M 1581 -64 \n",
       "C 2445 -64 2931 467 2931 1139 \n",
       "C 2931 1760 2592 2074 2106 2330 \n",
       "C 2490 2541 2822 2899 2822 3424 \n",
       "C 2822 4077 2394 4499 1606 4499 \n",
       "C 819 4499 384 4013 384 3398 \n",
       "C 384 2848 678 2509 1069 2285 \n",
       "C 602 2054 230 1683 230 1082 \n",
       "C 230 384 710 -64 1581 -64 \n",
       "z\n",
       "M 1587 390 \n",
       "C 1082 390 768 678 768 1126 \n",
       "C 768 1581 1037 1894 1414 2080 \n",
       "C 2029 1792 2387 1574 2387 1082 \n",
       "C 2387 614 2054 390 1587 390 \n",
       "z\n",
       "M 1754 2522 \n",
       "C 1210 2778 928 3021 928 3430 \n",
       "C 928 3821 1171 4051 1606 4051 \n",
       "C 2067 4051 2285 3782 2285 3398 \n",
       "C 2285 3008 2099 2765 1754 2522 \n",
       "z\n",
       "\" id=\"GuardianSansCond-Regular-38\" transform=\"scale(0.015625)\"/>\n",
       "       </defs>\n",
       "       <use xlink:href=\"#GuardianSansCond-Regular-38\"/>\n",
       "       <use x=\"49.399994\" xlink:href=\"#GuardianSansCond-Regular-30\"/>\n",
       "       <use x=\"102.899979\" xlink:href=\"#GuardianSansCond-Regular-30\"/>\n",
       "      </g>\n",
       "     </g>\n",
       "    </g>\n",
       "    <g id=\"xtick_6\">\n",
       "     <g id=\"line2d_6\">\n",
       "      <g>\n",
       "       <use style=\"stroke:#000000;stroke-width:0.8;\" x=\"343.649411\" xlink:href=\"#mccc0f7301f\" y=\"201.8505\"/>\n",
       "      </g>\n",
       "     </g>\n",
       "     <g id=\"text_6\">\n",
       "      <!-- 1000 -->\n",
       "      <g transform=\"translate(332.291599 217.65925)scale(0.12 -0.12)\">\n",
       "       <defs>\n",
       "        <path d=\"M 832 0 \n",
       "L 1363 0 \n",
       "L 1363 4474 \n",
       "L 1171 4474 \n",
       "L 141 4083 \n",
       "L 141 3776 \n",
       "L 832 3846 \n",
       "L 832 0 \n",
       "z\n",
       "\" id=\"GuardianSansCond-Regular-31\" transform=\"scale(0.015625)\"/>\n",
       "       </defs>\n",
       "       <use xlink:href=\"#GuardianSansCond-Regular-31\"/>\n",
       "       <use x=\"28.799988\" xlink:href=\"#GuardianSansCond-Regular-30\"/>\n",
       "       <use x=\"82.299973\" xlink:href=\"#GuardianSansCond-Regular-30\"/>\n",
       "       <use x=\"135.799957\" xlink:href=\"#GuardianSansCond-Regular-30\"/>\n",
       "      </g>\n",
       "     </g>\n",
       "    </g>\n",
       "    <g id=\"text_7\">\n",
       "     <!-- Length -->\n",
       "     <g transform=\"translate(197.281562 232.75925)scale(0.12 -0.12)\">\n",
       "      <defs>\n",
       "       <path d=\"M 416 0 \n",
       "L 2541 0 \n",
       "L 2541 461 \n",
       "L 954 461 \n",
       "L 954 4435 \n",
       "L 416 4435 \n",
       "L 416 0 \n",
       "z\n",
       "\" id=\"GuardianSansCond-Regular-4c\" transform=\"scale(0.015625)\"/>\n",
       "       <path d=\"M 1555 -51 \n",
       "C 1984 -51 2317 102 2470 243 \n",
       "L 2470 627 \n",
       "C 2240 499 1965 397 1613 397 \n",
       "C 1037 397 742 698 723 1466 \n",
       "L 2554 1466 \n",
       "L 2554 1798 \n",
       "C 2554 2893 2176 3334 1402 3334 \n",
       "C 659 3334 186 2810 186 1722 \n",
       "L 186 1549 \n",
       "C 186 499 634 -51 1555 -51 \n",
       "z\n",
       "M 1382 2906 \n",
       "C 1830 2906 2010 2611 2010 1894 \n",
       "L 723 1894 \n",
       "C 736 2630 992 2906 1382 2906 \n",
       "z\n",
       "\" id=\"GuardianSansCond-Regular-65\" transform=\"scale(0.015625)\"/>\n",
       "       <path d=\"M 346 0 \n",
       "L 870 0 \n",
       "L 870 2688 \n",
       "C 1037 2778 1306 2886 1587 2886 \n",
       "C 1965 2886 2093 2765 2093 2458 \n",
       "L 2093 0 \n",
       "L 2611 0 \n",
       "L 2611 2528 \n",
       "C 2611 3085 2342 3334 1811 3334 \n",
       "C 1440 3334 1107 3194 870 3021 \n",
       "L 845 3021 \n",
       "L 845 3283 \n",
       "L 346 3283 \n",
       "L 346 0 \n",
       "z\n",
       "\" id=\"GuardianSansCond-Regular-6e\" transform=\"scale(0.015625)\"/>\n",
       "       <path d=\"M 1325 -1235 \n",
       "C 2240 -1235 2675 -787 2675 -179 \n",
       "C 2675 416 2336 704 1696 704 \n",
       "L 1069 704 \n",
       "C 858 704 774 806 774 966 \n",
       "C 774 1069 826 1178 890 1242 \n",
       "C 1018 1197 1171 1178 1331 1178 \n",
       "C 1939 1178 2413 1530 2413 2208 \n",
       "L 2413 2304 \n",
       "C 2413 2560 2336 2739 2234 2874 \n",
       "L 2682 2874 \n",
       "L 2682 3283 \n",
       "L 1747 3283 \n",
       "C 1626 3315 1485 3334 1325 3334 \n",
       "C 704 3334 250 2944 250 2278 \n",
       "L 250 2182 \n",
       "C 250 1786 429 1510 634 1376 \n",
       "C 422 1210 294 1024 294 787 \n",
       "C 294 544 442 403 627 333 \n",
       "L 627 307 \n",
       "C 320 192 64 -38 64 -422 \n",
       "C 64 -915 506 -1235 1325 -1235 \n",
       "z\n",
       "M 1312 -819 \n",
       "C 832 -819 595 -640 595 -326 \n",
       "C 595 -51 762 141 966 218 \n",
       "L 1632 218 \n",
       "C 2022 218 2150 45 2150 -237 \n",
       "C 2150 -602 1926 -819 1312 -819 \n",
       "z\n",
       "M 1331 1581 \n",
       "C 998 1581 762 1773 762 2189 \n",
       "L 762 2323 \n",
       "C 762 2726 973 2931 1331 2931 \n",
       "C 1670 2931 1901 2746 1901 2310 \n",
       "L 1901 2176 \n",
       "C 1901 1779 1683 1581 1331 1581 \n",
       "z\n",
       "\" id=\"GuardianSansCond-Regular-67\" transform=\"scale(0.015625)\"/>\n",
       "       <path d=\"M 1222 -38 \n",
       "C 1466 -38 1619 26 1722 90 \n",
       "L 1722 442 \n",
       "C 1632 416 1517 390 1382 390 \n",
       "C 1107 390 1005 480 1005 781 \n",
       "L 1005 2848 \n",
       "L 1683 2848 \n",
       "L 1683 3283 \n",
       "L 1005 3283 \n",
       "L 1005 4051 \n",
       "L 486 4051 \n",
       "L 486 3283 \n",
       "L 96 3283 \n",
       "L 96 2848 \n",
       "L 486 2848 \n",
       "L 486 710 \n",
       "C 486 160 774 -38 1222 -38 \n",
       "z\n",
       "\" id=\"GuardianSansCond-Regular-74\" transform=\"scale(0.015625)\"/>\n",
       "       <path d=\"M 346 0 \n",
       "L 870 0 \n",
       "L 870 2688 \n",
       "C 1037 2778 1306 2886 1587 2886 \n",
       "C 1965 2886 2093 2765 2093 2458 \n",
       "L 2093 0 \n",
       "L 2611 0 \n",
       "L 2611 2528 \n",
       "C 2611 3085 2336 3334 1805 3334 \n",
       "C 1440 3334 1126 3200 896 3034 \n",
       "L 870 3034 \n",
       "L 870 4698 \n",
       "L 346 4698 \n",
       "L 346 0 \n",
       "z\n",
       "\" id=\"GuardianSansCond-Regular-68\" transform=\"scale(0.015625)\"/>\n",
       "      </defs>\n",
       "      <use xlink:href=\"#GuardianSansCond-Regular-4c\"/>\n",
       "      <use x=\"41.799988\" xlink:href=\"#GuardianSansCond-Regular-65\"/>\n",
       "      <use x=\"84.499985\" xlink:href=\"#GuardianSansCond-Regular-6e\"/>\n",
       "      <use x=\"130.599976\" xlink:href=\"#GuardianSansCond-Regular-67\"/>\n",
       "      <use x=\"173.299973\" xlink:href=\"#GuardianSansCond-Regular-74\"/>\n",
       "      <use x=\"202.299957\" xlink:href=\"#GuardianSansCond-Regular-68\"/>\n",
       "     </g>\n",
       "    </g>\n",
       "   </g>\n",
       "   <g id=\"matplotlib.axis_2\">\n",
       "    <g id=\"ytick_1\">\n",
       "     <g id=\"line2d_7\">\n",
       "      <defs>\n",
       "       <path d=\"M 0 0 \n",
       "L -3.5 0 \n",
       "\" id=\"m18c6db5eea\" style=\"stroke:#000000;stroke-width:0.8;\"/>\n",
       "      </defs>\n",
       "      <g>\n",
       "       <use style=\"stroke:#000000;stroke-width:0.8;\" x=\"54.24875\" xlink:href=\"#m18c6db5eea\" y=\"201.8505\"/>\n",
       "      </g>\n",
       "     </g>\n",
       "     <g id=\"text_8\">\n",
       "      <!-- 0 -->\n",
       "      <g transform=\"translate(40.82875 206.254875)scale(0.12 -0.12)\">\n",
       "       <use xlink:href=\"#GuardianSansCond-Regular-30\"/>\n",
       "      </g>\n",
       "     </g>\n",
       "    </g>\n",
       "    <g id=\"ytick_2\">\n",
       "     <g id=\"line2d_8\">\n",
       "      <g>\n",
       "       <use style=\"stroke:#000000;stroke-width:0.8;\" x=\"54.24875\" xlink:href=\"#m18c6db5eea\" y=\"161.149756\"/>\n",
       "      </g>\n",
       "     </g>\n",
       "     <g id=\"text_9\">\n",
       "      <!-- 1000 -->\n",
       "      <g transform=\"translate(24.533125 165.554131)scale(0.12 -0.12)\">\n",
       "       <use xlink:href=\"#GuardianSansCond-Regular-31\"/>\n",
       "       <use x=\"28.799988\" xlink:href=\"#GuardianSansCond-Regular-30\"/>\n",
       "       <use x=\"82.299973\" xlink:href=\"#GuardianSansCond-Regular-30\"/>\n",
       "       <use x=\"135.799957\" xlink:href=\"#GuardianSansCond-Regular-30\"/>\n",
       "      </g>\n",
       "     </g>\n",
       "    </g>\n",
       "    <g id=\"ytick_3\">\n",
       "     <g id=\"line2d_9\">\n",
       "      <g>\n",
       "       <use style=\"stroke:#000000;stroke-width:0.8;\" x=\"54.24875\" xlink:href=\"#m18c6db5eea\" y=\"120.449012\"/>\n",
       "      </g>\n",
       "     </g>\n",
       "     <g id=\"text_10\">\n",
       "      <!-- 2000 -->\n",
       "      <g transform=\"translate(22.88875 124.853387)scale(0.12 -0.12)\">\n",
       "       <use xlink:href=\"#GuardianSansCond-Regular-32\"/>\n",
       "       <use x=\"42.499985\" xlink:href=\"#GuardianSansCond-Regular-30\"/>\n",
       "       <use x=\"95.999969\" xlink:href=\"#GuardianSansCond-Regular-30\"/>\n",
       "       <use x=\"149.499954\" xlink:href=\"#GuardianSansCond-Regular-30\"/>\n",
       "      </g>\n",
       "     </g>\n",
       "    </g>\n",
       "    <g id=\"ytick_4\">\n",
       "     <g id=\"line2d_10\">\n",
       "      <g>\n",
       "       <use style=\"stroke:#000000;stroke-width:0.8;\" x=\"54.24875\" xlink:href=\"#m18c6db5eea\" y=\"79.748268\"/>\n",
       "      </g>\n",
       "     </g>\n",
       "     <g id=\"text_11\">\n",
       "      <!-- 3000 -->\n",
       "      <g transform=\"translate(22.924375 84.152643)scale(0.12 -0.12)\">\n",
       "       <defs>\n",
       "        <path d=\"M 1094 -64 \n",
       "C 1920 -64 2432 416 2432 1248 \n",
       "C 2432 1939 2112 2253 1606 2362 \n",
       "L 1606 2381 \n",
       "C 2042 2515 2310 2803 2310 3405 \n",
       "C 2310 4096 1882 4499 1158 4499 \n",
       "C 787 4499 486 4429 275 4320 \n",
       "L 275 3891 \n",
       "C 461 3968 678 4038 998 4038 \n",
       "C 1478 4038 1754 3866 1754 3302 \n",
       "C 1754 2797 1478 2547 1018 2547 \n",
       "L 717 2547 \n",
       "L 717 2086 \n",
       "L 1056 2086 \n",
       "C 1600 2086 1869 1837 1869 1267 \n",
       "C 1869 646 1517 403 947 403 \n",
       "C 646 403 358 493 147 608 \n",
       "L 147 166 \n",
       "C 358 32 640 -64 1094 -64 \n",
       "z\n",
       "\" id=\"GuardianSansCond-Regular-33\" transform=\"scale(0.015625)\"/>\n",
       "       </defs>\n",
       "       <use xlink:href=\"#GuardianSansCond-Regular-33\"/>\n",
       "       <use x=\"42.199997\" xlink:href=\"#GuardianSansCond-Regular-30\"/>\n",
       "       <use x=\"95.699982\" xlink:href=\"#GuardianSansCond-Regular-30\"/>\n",
       "       <use x=\"149.199966\" xlink:href=\"#GuardianSansCond-Regular-30\"/>\n",
       "      </g>\n",
       "     </g>\n",
       "    </g>\n",
       "    <g id=\"ytick_5\">\n",
       "     <g id=\"line2d_11\">\n",
       "      <g>\n",
       "       <use style=\"stroke:#000000;stroke-width:0.8;\" x=\"54.24875\" xlink:href=\"#m18c6db5eea\" y=\"39.047524\"/>\n",
       "      </g>\n",
       "     </g>\n",
       "     <g id=\"text_12\">\n",
       "      <!-- 4000 -->\n",
       "      <g transform=\"translate(22.3 43.451899)scale(0.12 -0.12)\">\n",
       "       <use xlink:href=\"#GuardianSansCond-Regular-34\"/>\n",
       "       <use x=\"47.399994\" xlink:href=\"#GuardianSansCond-Regular-30\"/>\n",
       "       <use x=\"100.899979\" xlink:href=\"#GuardianSansCond-Regular-30\"/>\n",
       "       <use x=\"154.399963\" xlink:href=\"#GuardianSansCond-Regular-30\"/>\n",
       "      </g>\n",
       "     </g>\n",
       "    </g>\n",
       "    <g id=\"text_13\">\n",
       "     <!-- Count -->\n",
       "     <g transform=\"translate(16.00875 125.626125)rotate(-90)scale(0.12 -0.12)\">\n",
       "      <defs>\n",
       "       <path d=\"M 1882 -64 \n",
       "C 2304 -64 2637 38 2874 186 \n",
       "L 2874 640 \n",
       "C 2643 518 2342 397 1946 397 \n",
       "C 1114 397 806 986 806 2042 \n",
       "L 806 2445 \n",
       "C 806 3648 1267 4038 1920 4038 \n",
       "C 2278 4038 2541 3955 2822 3840 \n",
       "L 2822 4288 \n",
       "C 2618 4410 2336 4499 1952 4499 \n",
       "C 1005 4499 237 3994 237 2387 \n",
       "L 237 2042 \n",
       "C 237 563 851 -64 1882 -64 \n",
       "z\n",
       "\" id=\"GuardianSansCond-Regular-43\" transform=\"scale(0.015625)\"/>\n",
       "       <path d=\"M 1459 -51 \n",
       "C 2272 -51 2733 570 2733 1542 \n",
       "L 2733 1747 \n",
       "C 2733 2771 2291 3334 1459 3334 \n",
       "C 659 3334 186 2714 186 1741 \n",
       "L 186 1530 \n",
       "C 186 531 614 -51 1459 -51 \n",
       "z\n",
       "M 1466 378 \n",
       "C 992 378 723 762 723 1472 \n",
       "L 723 1818 \n",
       "C 723 2451 947 2906 1453 2906 \n",
       "C 1920 2906 2195 2560 2195 1805 \n",
       "L 2195 1466 \n",
       "C 2195 826 1958 378 1466 378 \n",
       "z\n",
       "\" id=\"GuardianSansCond-Regular-6f\" transform=\"scale(0.015625)\"/>\n",
       "       <path d=\"M 1158 -51 \n",
       "C 1523 -51 1824 109 2042 262 \n",
       "L 2067 262 \n",
       "L 2118 0 \n",
       "L 2566 0 \n",
       "L 2566 3283 \n",
       "L 2042 3283 \n",
       "L 2042 602 \n",
       "C 1888 512 1626 397 1350 397 \n",
       "C 947 397 858 557 858 838 \n",
       "L 858 3283 \n",
       "L 333 3283 \n",
       "L 333 826 \n",
       "C 333 301 576 -51 1158 -51 \n",
       "z\n",
       "\" id=\"GuardianSansCond-Regular-75\" transform=\"scale(0.015625)\"/>\n",
       "      </defs>\n",
       "      <use xlink:href=\"#GuardianSansCond-Regular-43\"/>\n",
       "      <use x=\"47.399994\" xlink:href=\"#GuardianSansCond-Regular-6f\"/>\n",
       "      <use x=\"92.999985\" xlink:href=\"#GuardianSansCond-Regular-75\"/>\n",
       "      <use x=\"138.499969\" xlink:href=\"#GuardianSansCond-Regular-6e\"/>\n",
       "      <use x=\"184.59996\" xlink:href=\"#GuardianSansCond-Regular-74\"/>\n",
       "     </g>\n",
       "    </g>\n",
       "   </g>\n",
       "   <g id=\"patch_23\">\n",
       "    <path d=\"M 54.24875 201.8505 \n",
       "L 54.24875 23.7705 \n",
       "\" style=\"fill:none;stroke:#000000;stroke-linecap:square;stroke-linejoin:miter;stroke-width:0.8;\"/>\n",
       "   </g>\n",
       "   <g id=\"patch_24\">\n",
       "    <path d=\"M 370.12125 201.8505 \n",
       "L 370.12125 23.7705 \n",
       "\" style=\"fill:none;stroke:#000000;stroke-linecap:square;stroke-linejoin:miter;stroke-width:0.8;\"/>\n",
       "   </g>\n",
       "   <g id=\"patch_25\">\n",
       "    <path d=\"M 54.24875 201.8505 \n",
       "L 370.12125 201.8505 \n",
       "\" style=\"fill:none;stroke:#000000;stroke-linecap:square;stroke-linejoin:miter;stroke-width:0.8;\"/>\n",
       "   </g>\n",
       "   <g id=\"patch_26\">\n",
       "    <path d=\"M 54.24875 23.7705 \n",
       "L 370.12125 23.7705 \n",
       "\" style=\"fill:none;stroke:#000000;stroke-linecap:square;stroke-linejoin:miter;stroke-width:0.8;\"/>\n",
       "   </g>\n",
       "   <g id=\"text_14\">\n",
       "    <!-- Dialogue Token Length -->\n",
       "    <g transform=\"translate(153.79525 17.7705)scale(0.144 -0.144)\">\n",
       "     <defs>\n",
       "      <path d=\"M 416 0 \n",
       "L 1498 0 \n",
       "C 2714 0 3270 813 3270 2163 \n",
       "L 3270 2400 \n",
       "C 3270 3802 2637 4435 1491 4435 \n",
       "L 416 4435 \n",
       "L 416 0 \n",
       "z\n",
       "M 954 461 \n",
       "L 954 3974 \n",
       "L 1446 3974 \n",
       "C 2234 3974 2694 3603 2694 2400 \n",
       "L 2694 2074 \n",
       "C 2694 941 2323 461 1510 461 \n",
       "L 954 461 \n",
       "z\n",
       "\" id=\"GuardianSansCond-Regular-44\" transform=\"scale(0.015625)\"/>\n",
       "      <path d=\"M 358 0 \n",
       "L 883 0 \n",
       "L 883 3283 \n",
       "L 358 3283 \n",
       "L 358 0 \n",
       "z\n",
       "M 352 3910 \n",
       "L 883 3910 \n",
       "L 883 4474 \n",
       "L 352 4474 \n",
       "L 352 3910 \n",
       "z\n",
       "\" id=\"GuardianSansCond-Regular-69\" transform=\"scale(0.015625)\"/>\n",
       "      <path d=\"M 1082 -51 \n",
       "C 1395 -51 1638 77 1779 230 \n",
       "L 1811 230 \n",
       "L 1862 0 \n",
       "L 2291 0 \n",
       "L 2291 2413 \n",
       "C 2291 3027 1958 3334 1293 3334 \n",
       "C 915 3334 634 3258 410 3155 \n",
       "L 410 2771 \n",
       "C 576 2829 806 2886 1094 2886 \n",
       "C 1600 2886 1766 2739 1766 2278 \n",
       "L 1766 1958 \n",
       "L 1088 1856 \n",
       "C 480 1766 160 1466 160 883 \n",
       "C 160 250 525 -51 1082 -51 \n",
       "z\n",
       "M 1222 358 \n",
       "C 877 358 704 544 704 915 \n",
       "C 704 1274 877 1440 1242 1485 \n",
       "L 1766 1549 \n",
       "L 1766 525 \n",
       "C 1658 435 1459 358 1222 358 \n",
       "z\n",
       "\" id=\"GuardianSansCond-Regular-61\" transform=\"scale(0.015625)\"/>\n",
       "      <path d=\"M 358 0 \n",
       "L 877 0 \n",
       "L 877 4698 \n",
       "L 358 4698 \n",
       "L 358 0 \n",
       "z\n",
       "\" id=\"GuardianSansCond-Regular-6c\" transform=\"scale(0.015625)\"/>\n",
       "      <path id=\"GuardianSansCond-Regular-20\" transform=\"scale(0.015625)\"/>\n",
       "      <path d=\"M 1152 0 \n",
       "L 1690 0 \n",
       "L 1690 3974 \n",
       "L 2746 3974 \n",
       "L 2746 4435 \n",
       "L 90 4435 \n",
       "L 90 3974 \n",
       "L 1152 3974 \n",
       "L 1152 0 \n",
       "z\n",
       "\" id=\"GuardianSansCond-Regular-54\" transform=\"scale(0.015625)\"/>\n",
       "      <path d=\"M 870 4698 \n",
       "L 346 4698 \n",
       "L 346 0 \n",
       "L 870 0 \n",
       "L 870 4698 \n",
       "z\n",
       "M 973 1696 \n",
       "L 1984 0 \n",
       "L 2592 0 \n",
       "L 1549 1741 \n",
       "L 2515 3283 \n",
       "L 1939 3283 \n",
       "L 973 1696 \n",
       "z\n",
       "\" id=\"GuardianSansCond-Regular-6b\" transform=\"scale(0.015625)\"/>\n",
       "     </defs>\n",
       "     <use xlink:href=\"#GuardianSansCond-Regular-44\"/>\n",
       "     <use x=\"54.599991\" xlink:href=\"#GuardianSansCond-Regular-69\"/>\n",
       "     <use x=\"73.899979\" xlink:href=\"#GuardianSansCond-Regular-61\"/>\n",
       "     <use x=\"114.799973\" xlink:href=\"#GuardianSansCond-Regular-6c\"/>\n",
       "     <use x=\"134.09996\" xlink:href=\"#GuardianSansCond-Regular-6f\"/>\n",
       "     <use x=\"179.699951\" xlink:href=\"#GuardianSansCond-Regular-67\"/>\n",
       "     <use x=\"222.399948\" xlink:href=\"#GuardianSansCond-Regular-75\"/>\n",
       "     <use x=\"267.899933\" xlink:href=\"#GuardianSansCond-Regular-65\"/>\n",
       "     <use x=\"310.59993\" xlink:href=\"#GuardianSansCond-Regular-20\"/>\n",
       "     <use x=\"326.399918\" xlink:href=\"#GuardianSansCond-Regular-54\"/>\n",
       "     <use x=\"370.899902\" xlink:href=\"#GuardianSansCond-Regular-6f\"/>\n",
       "     <use x=\"416.499893\" xlink:href=\"#GuardianSansCond-Regular-6b\"/>\n",
       "     <use x=\"457.999878\" xlink:href=\"#GuardianSansCond-Regular-65\"/>\n",
       "     <use x=\"500.699875\" xlink:href=\"#GuardianSansCond-Regular-6e\"/>\n",
       "     <use x=\"546.799866\" xlink:href=\"#GuardianSansCond-Regular-20\"/>\n",
       "     <use x=\"562.599854\" xlink:href=\"#GuardianSansCond-Regular-4c\"/>\n",
       "     <use x=\"604.399841\" xlink:href=\"#GuardianSansCond-Regular-65\"/>\n",
       "     <use x=\"647.099838\" xlink:href=\"#GuardianSansCond-Regular-6e\"/>\n",
       "     <use x=\"693.199829\" xlink:href=\"#GuardianSansCond-Regular-67\"/>\n",
       "     <use x=\"735.899826\" xlink:href=\"#GuardianSansCond-Regular-74\"/>\n",
       "     <use x=\"764.899811\" xlink:href=\"#GuardianSansCond-Regular-68\"/>\n",
       "    </g>\n",
       "   </g>\n",
       "  </g>\n",
       "  <g id=\"axes_2\">\n",
       "   <g id=\"patch_27\">\n",
       "    <path d=\"M 386.58125 201.8505 \n",
       "L 702.45375 201.8505 \n",
       "L 702.45375 23.7705 \n",
       "L 386.58125 23.7705 \n",
       "z\n",
       "\" style=\"fill:#ffffff;\"/>\n",
       "   </g>\n",
       "   <g id=\"patch_28\">\n",
       "    <path clip-path=\"url(#p5ef0d16bad)\" d=\"M 400.939091 201.8505 \n",
       "L 415.296932 201.8505 \n",
       "L 415.296932 200.670178 \n",
       "L 400.939091 200.670178 \n",
       "z\n",
       "\" style=\"fill:#0071bc;stroke:#0071bc;stroke-linejoin:miter;\"/>\n",
       "   </g>\n",
       "   <g id=\"patch_29\">\n",
       "    <path clip-path=\"url(#p5ef0d16bad)\" d=\"M 415.296932 201.8505 \n",
       "L 429.654773 201.8505 \n",
       "L 429.654773 169.981817 \n",
       "L 415.296932 169.981817 \n",
       "z\n",
       "\" style=\"fill:#0071bc;stroke:#0071bc;stroke-linejoin:miter;\"/>\n",
       "   </g>\n",
       "   <g id=\"patch_30\">\n",
       "    <path clip-path=\"url(#p5ef0d16bad)\" d=\"M 429.654773 201.8505 \n",
       "L 444.012614 201.8505 \n",
       "L 444.012614 125.414503 \n",
       "L 429.654773 125.414503 \n",
       "z\n",
       "\" style=\"fill:#0071bc;stroke:#0071bc;stroke-linejoin:miter;\"/>\n",
       "   </g>\n",
       "   <g id=\"patch_31\">\n",
       "    <path clip-path=\"url(#p5ef0d16bad)\" d=\"M 444.012614 201.8505 \n",
       "L 458.370455 201.8505 \n",
       "L 458.370455 114.547404 \n",
       "L 444.012614 114.547404 \n",
       "z\n",
       "\" style=\"fill:#0071bc;stroke:#0071bc;stroke-linejoin:miter;\"/>\n",
       "   </g>\n",
       "   <g id=\"patch_32\">\n",
       "    <path clip-path=\"url(#p5ef0d16bad)\" d=\"M 458.370455 201.8505 \n",
       "L 472.728295 201.8505 \n",
       "L 472.728295 119.675698 \n",
       "L 458.370455 119.675698 \n",
       "z\n",
       "\" style=\"fill:#0071bc;stroke:#0071bc;stroke-linejoin:miter;\"/>\n",
       "   </g>\n",
       "   <g id=\"patch_33\">\n",
       "    <path clip-path=\"url(#p5ef0d16bad)\" d=\"M 472.728295 201.8505 \n",
       "L 487.086136 201.8505 \n",
       "L 487.086136 132.781338 \n",
       "L 472.728295 132.781338 \n",
       "z\n",
       "\" style=\"fill:#0071bc;stroke:#0071bc;stroke-linejoin:miter;\"/>\n",
       "   </g>\n",
       "   <g id=\"patch_34\">\n",
       "    <path clip-path=\"url(#p5ef0d16bad)\" d=\"M 487.086136 201.8505 \n",
       "L 501.443977 201.8505 \n",
       "L 501.443977 143.567035 \n",
       "L 487.086136 143.567035 \n",
       "z\n",
       "\" style=\"fill:#0071bc;stroke:#0071bc;stroke-linejoin:miter;\"/>\n",
       "   </g>\n",
       "   <g id=\"patch_35\">\n",
       "    <path clip-path=\"url(#p5ef0d16bad)\" d=\"M 501.443977 201.8505 \n",
       "L 515.801818 201.8505 \n",
       "L 515.801818 153.498016 \n",
       "L 501.443977 153.498016 \n",
       "z\n",
       "\" style=\"fill:#0071bc;stroke:#0071bc;stroke-linejoin:miter;\"/>\n",
       "   </g>\n",
       "   <g id=\"patch_36\">\n",
       "    <path clip-path=\"url(#p5ef0d16bad)\" d=\"M 515.801818 201.8505 \n",
       "L 530.159659 201.8505 \n",
       "L 530.159659 165.341933 \n",
       "L 515.801818 165.341933 \n",
       "z\n",
       "\" style=\"fill:#0071bc;stroke:#0071bc;stroke-linejoin:miter;\"/>\n",
       "   </g>\n",
       "   <g id=\"patch_37\">\n",
       "    <path clip-path=\"url(#p5ef0d16bad)\" d=\"M 530.159659 201.8505 \n",
       "L 544.5175 201.8505 \n",
       "L 544.5175 178.732477 \n",
       "L 530.159659 178.732477 \n",
       "z\n",
       "\" style=\"fill:#0071bc;stroke:#0071bc;stroke-linejoin:miter;\"/>\n",
       "   </g>\n",
       "   <g id=\"patch_38\">\n",
       "    <path clip-path=\"url(#p5ef0d16bad)\" d=\"M 544.5175 201.8505 \n",
       "L 558.875341 201.8505 \n",
       "L 558.875341 179.261587 \n",
       "L 544.5175 179.261587 \n",
       "z\n",
       "\" style=\"fill:#0071bc;stroke:#0071bc;stroke-linejoin:miter;\"/>\n",
       "   </g>\n",
       "   <g id=\"patch_39\">\n",
       "    <path clip-path=\"url(#p5ef0d16bad)\" d=\"M 558.875341 201.8505 \n",
       "L 573.233182 201.8505 \n",
       "L 573.233182 184.186377 \n",
       "L 558.875341 184.186377 \n",
       "z\n",
       "\" style=\"fill:#0071bc;stroke:#0071bc;stroke-linejoin:miter;\"/>\n",
       "   </g>\n",
       "   <g id=\"patch_40\">\n",
       "    <path clip-path=\"url(#p5ef0d16bad)\" d=\"M 573.233182 201.8505 \n",
       "L 587.591023 201.8505 \n",
       "L 587.591023 188.74486 \n",
       "L 573.233182 188.74486 \n",
       "z\n",
       "\" style=\"fill:#0071bc;stroke:#0071bc;stroke-linejoin:miter;\"/>\n",
       "   </g>\n",
       "   <g id=\"patch_41\">\n",
       "    <path clip-path=\"url(#p5ef0d16bad)\" d=\"M 587.591023 201.8505 \n",
       "L 601.948864 201.8505 \n",
       "L 601.948864 190.779898 \n",
       "L 587.591023 190.779898 \n",
       "z\n",
       "\" style=\"fill:#0071bc;stroke:#0071bc;stroke-linejoin:miter;\"/>\n",
       "   </g>\n",
       "   <g id=\"patch_42\">\n",
       "    <path clip-path=\"url(#p5ef0d16bad)\" d=\"M 601.948864 201.8505 \n",
       "L 616.306705 201.8505 \n",
       "L 616.306705 194.035957 \n",
       "L 601.948864 194.035957 \n",
       "z\n",
       "\" style=\"fill:#0071bc;stroke:#0071bc;stroke-linejoin:miter;\"/>\n",
       "   </g>\n",
       "   <g id=\"patch_43\">\n",
       "    <path clip-path=\"url(#p5ef0d16bad)\" d=\"M 616.306705 201.8505 \n",
       "L 630.664545 201.8505 \n",
       "L 630.664545 195.786089 \n",
       "L 616.306705 195.786089 \n",
       "z\n",
       "\" style=\"fill:#0071bc;stroke:#0071bc;stroke-linejoin:miter;\"/>\n",
       "   </g>\n",
       "   <g id=\"patch_44\">\n",
       "    <path clip-path=\"url(#p5ef0d16bad)\" d=\"M 630.664545 201.8505 \n",
       "L 645.022386 201.8505 \n",
       "L 645.022386 197.780426 \n",
       "L 630.664545 197.780426 \n",
       "z\n",
       "\" style=\"fill:#0071bc;stroke:#0071bc;stroke-linejoin:miter;\"/>\n",
       "   </g>\n",
       "   <g id=\"patch_45\">\n",
       "    <path clip-path=\"url(#p5ef0d16bad)\" d=\"M 645.022386 201.8505 \n",
       "L 659.380227 201.8505 \n",
       "L 659.380227 199.65266 \n",
       "L 645.022386 199.65266 \n",
       "z\n",
       "\" style=\"fill:#0071bc;stroke:#0071bc;stroke-linejoin:miter;\"/>\n",
       "   </g>\n",
       "   <g id=\"patch_46\">\n",
       "    <path clip-path=\"url(#p5ef0d16bad)\" d=\"M 659.380227 201.8505 \n",
       "L 673.738068 201.8505 \n",
       "L 673.738068 201.158587 \n",
       "L 659.380227 201.158587 \n",
       "z\n",
       "\" style=\"fill:#0071bc;stroke:#0071bc;stroke-linejoin:miter;\"/>\n",
       "   </g>\n",
       "   <g id=\"patch_47\">\n",
       "    <path clip-path=\"url(#p5ef0d16bad)\" d=\"M 673.738068 201.8505 \n",
       "L 688.095909 201.8505 \n",
       "L 688.095909 201.809799 \n",
       "L 673.738068 201.809799 \n",
       "z\n",
       "\" style=\"fill:#0071bc;stroke:#0071bc;stroke-linejoin:miter;\"/>\n",
       "   </g>\n",
       "   <g id=\"matplotlib.axis_3\">\n",
       "    <g id=\"xtick_7\">\n",
       "     <g id=\"line2d_12\">\n",
       "      <g>\n",
       "       <use style=\"stroke:#000000;stroke-width:0.8;\" x=\"393.576096\" xlink:href=\"#mccc0f7301f\" y=\"201.8505\"/>\n",
       "      </g>\n",
       "     </g>\n",
       "     <g id=\"text_15\">\n",
       "      <!-- 0 -->\n",
       "      <g transform=\"translate(390.366096 217.65925)scale(0.12 -0.12)\">\n",
       "       <use xlink:href=\"#GuardianSansCond-Regular-30\"/>\n",
       "      </g>\n",
       "     </g>\n",
       "    </g>\n",
       "    <g id=\"xtick_8\">\n",
       "     <g id=\"line2d_13\">\n",
       "      <g>\n",
       "       <use style=\"stroke:#000000;stroke-width:0.8;\" x=\"467.206049\" xlink:href=\"#mccc0f7301f\" y=\"201.8505\"/>\n",
       "      </g>\n",
       "     </g>\n",
       "     <g id=\"text_16\">\n",
       "      <!-- 20 -->\n",
       "      <g transform=\"translate(461.446049 217.65925)scale(0.12 -0.12)\">\n",
       "       <use xlink:href=\"#GuardianSansCond-Regular-32\"/>\n",
       "       <use x=\"42.499985\" xlink:href=\"#GuardianSansCond-Regular-30\"/>\n",
       "      </g>\n",
       "     </g>\n",
       "    </g>\n",
       "    <g id=\"xtick_9\">\n",
       "     <g id=\"line2d_14\">\n",
       "      <g>\n",
       "       <use style=\"stroke:#000000;stroke-width:0.8;\" x=\"540.836002\" xlink:href=\"#mccc0f7301f\" y=\"201.8505\"/>\n",
       "      </g>\n",
       "     </g>\n",
       "     <g id=\"text_17\">\n",
       "      <!-- 40 -->\n",
       "      <g transform=\"translate(534.781627 217.65925)scale(0.12 -0.12)\">\n",
       "       <use xlink:href=\"#GuardianSansCond-Regular-34\"/>\n",
       "       <use x=\"47.399994\" xlink:href=\"#GuardianSansCond-Regular-30\"/>\n",
       "      </g>\n",
       "     </g>\n",
       "    </g>\n",
       "    <g id=\"xtick_10\">\n",
       "     <g id=\"line2d_15\">\n",
       "      <g>\n",
       "       <use style=\"stroke:#000000;stroke-width:0.8;\" x=\"614.465956\" xlink:href=\"#mccc0f7301f\" y=\"201.8505\"/>\n",
       "      </g>\n",
       "     </g>\n",
       "     <g id=\"text_18\">\n",
       "      <!-- 60 -->\n",
       "      <g transform=\"translate(608.321581 217.65925)scale(0.12 -0.12)\">\n",
       "       <use xlink:href=\"#GuardianSansCond-Regular-36\"/>\n",
       "       <use x=\"48.899994\" xlink:href=\"#GuardianSansCond-Regular-30\"/>\n",
       "      </g>\n",
       "     </g>\n",
       "    </g>\n",
       "    <g id=\"xtick_11\">\n",
       "     <g id=\"line2d_16\">\n",
       "      <g>\n",
       "       <use style=\"stroke:#000000;stroke-width:0.8;\" x=\"688.095909\" xlink:href=\"#mccc0f7301f\" y=\"201.8505\"/>\n",
       "      </g>\n",
       "     </g>\n",
       "     <g id=\"text_19\">\n",
       "      <!-- 80 -->\n",
       "      <g transform=\"translate(681.921534 217.65925)scale(0.12 -0.12)\">\n",
       "       <use xlink:href=\"#GuardianSansCond-Regular-38\"/>\n",
       "       <use x=\"49.399994\" xlink:href=\"#GuardianSansCond-Regular-30\"/>\n",
       "      </g>\n",
       "     </g>\n",
       "    </g>\n",
       "    <g id=\"text_20\">\n",
       "     <!-- Length -->\n",
       "     <g transform=\"translate(529.614062 232.75925)scale(0.12 -0.12)\">\n",
       "      <use xlink:href=\"#GuardianSansCond-Regular-4c\"/>\n",
       "      <use x=\"41.799988\" xlink:href=\"#GuardianSansCond-Regular-65\"/>\n",
       "      <use x=\"84.499985\" xlink:href=\"#GuardianSansCond-Regular-6e\"/>\n",
       "      <use x=\"130.599976\" xlink:href=\"#GuardianSansCond-Regular-67\"/>\n",
       "      <use x=\"173.299973\" xlink:href=\"#GuardianSansCond-Regular-74\"/>\n",
       "      <use x=\"202.299957\" xlink:href=\"#GuardianSansCond-Regular-68\"/>\n",
       "     </g>\n",
       "    </g>\n",
       "   </g>\n",
       "   <g id=\"matplotlib.axis_4\">\n",
       "    <g id=\"ytick_6\">\n",
       "     <g id=\"line2d_17\">\n",
       "      <g>\n",
       "       <use style=\"stroke:#000000;stroke-width:0.8;\" x=\"386.58125\" xlink:href=\"#m18c6db5eea\" y=\"201.8505\"/>\n",
       "      </g>\n",
       "     </g>\n",
       "    </g>\n",
       "    <g id=\"ytick_7\">\n",
       "     <g id=\"line2d_18\">\n",
       "      <g>\n",
       "       <use style=\"stroke:#000000;stroke-width:0.8;\" x=\"386.58125\" xlink:href=\"#m18c6db5eea\" y=\"161.149756\"/>\n",
       "      </g>\n",
       "     </g>\n",
       "    </g>\n",
       "    <g id=\"ytick_8\">\n",
       "     <g id=\"line2d_19\">\n",
       "      <g>\n",
       "       <use style=\"stroke:#000000;stroke-width:0.8;\" x=\"386.58125\" xlink:href=\"#m18c6db5eea\" y=\"120.449012\"/>\n",
       "      </g>\n",
       "     </g>\n",
       "    </g>\n",
       "    <g id=\"ytick_9\">\n",
       "     <g id=\"line2d_20\">\n",
       "      <g>\n",
       "       <use style=\"stroke:#000000;stroke-width:0.8;\" x=\"386.58125\" xlink:href=\"#m18c6db5eea\" y=\"79.748268\"/>\n",
       "      </g>\n",
       "     </g>\n",
       "    </g>\n",
       "    <g id=\"ytick_10\">\n",
       "     <g id=\"line2d_21\">\n",
       "      <g>\n",
       "       <use style=\"stroke:#000000;stroke-width:0.8;\" x=\"386.58125\" xlink:href=\"#m18c6db5eea\" y=\"39.047524\"/>\n",
       "      </g>\n",
       "     </g>\n",
       "    </g>\n",
       "   </g>\n",
       "   <g id=\"patch_48\">\n",
       "    <path d=\"M 386.58125 201.8505 \n",
       "L 386.58125 23.7705 \n",
       "\" style=\"fill:none;stroke:#000000;stroke-linecap:square;stroke-linejoin:miter;stroke-width:0.8;\"/>\n",
       "   </g>\n",
       "   <g id=\"patch_49\">\n",
       "    <path d=\"M 702.45375 201.8505 \n",
       "L 702.45375 23.7705 \n",
       "\" style=\"fill:none;stroke:#000000;stroke-linecap:square;stroke-linejoin:miter;stroke-width:0.8;\"/>\n",
       "   </g>\n",
       "   <g id=\"patch_50\">\n",
       "    <path d=\"M 386.58125 201.8505 \n",
       "L 702.45375 201.8505 \n",
       "\" style=\"fill:none;stroke:#000000;stroke-linecap:square;stroke-linejoin:miter;stroke-width:0.8;\"/>\n",
       "   </g>\n",
       "   <g id=\"patch_51\">\n",
       "    <path d=\"M 386.58125 23.7705 \n",
       "L 702.45375 23.7705 \n",
       "\" style=\"fill:none;stroke:#000000;stroke-linecap:square;stroke-linejoin:miter;stroke-width:0.8;\"/>\n",
       "   </g>\n",
       "   <g id=\"text_21\">\n",
       "    <!-- Summary Token Length -->\n",
       "    <g transform=\"translate(484.168 17.7705)scale(0.144 -0.144)\">\n",
       "     <defs>\n",
       "      <path d=\"M 1184 -70 \n",
       "C 2138 -70 2509 499 2509 1248 \n",
       "C 2509 2029 2112 2259 1562 2502 \n",
       "L 1242 2643 \n",
       "C 858 2810 730 2970 730 3360 \n",
       "C 730 3808 986 4038 1459 4038 \n",
       "C 1843 4038 2144 3936 2336 3840 \n",
       "L 2336 4301 \n",
       "C 2157 4397 1914 4499 1466 4499 \n",
       "C 653 4499 198 4058 198 3322 \n",
       "C 198 2637 544 2349 1024 2138 \n",
       "L 1344 1997 \n",
       "C 1760 1811 1958 1677 1958 1197 \n",
       "C 1958 659 1702 397 1146 397 \n",
       "C 794 397 442 512 166 646 \n",
       "L 166 186 \n",
       "C 390 51 723 -70 1184 -70 \n",
       "z\n",
       "\" id=\"GuardianSansCond-Regular-53\" transform=\"scale(0.015625)\"/>\n",
       "      <path d=\"M 346 0 \n",
       "L 870 0 \n",
       "L 870 2688 \n",
       "C 1050 2790 1267 2886 1523 2886 \n",
       "C 1856 2886 1971 2758 1971 2464 \n",
       "L 1971 0 \n",
       "L 2490 0 \n",
       "L 2490 2688 \n",
       "C 2682 2797 2912 2886 3136 2886 \n",
       "C 3488 2886 3590 2746 3590 2464 \n",
       "L 3590 0 \n",
       "L 4115 0 \n",
       "L 4115 2528 \n",
       "C 4115 3104 3821 3334 3347 3334 \n",
       "C 2995 3334 2688 3187 2419 2995 \n",
       "L 2394 2995 \n",
       "C 2266 3226 2061 3334 1722 3334 \n",
       "C 1395 3334 1088 3181 870 3021 \n",
       "L 845 3021 \n",
       "L 845 3283 \n",
       "L 346 3283 \n",
       "L 346 0 \n",
       "z\n",
       "\" id=\"GuardianSansCond-Regular-6d\" transform=\"scale(0.015625)\"/>\n",
       "      <path d=\"M 346 0 \n",
       "L 870 0 \n",
       "L 870 2605 \n",
       "C 1062 2752 1306 2842 1587 2842 \n",
       "C 1638 2842 1728 2835 1786 2829 \n",
       "L 1786 3302 \n",
       "C 1747 3315 1677 3328 1606 3328 \n",
       "C 1306 3328 1030 3142 870 2938 \n",
       "L 845 2938 \n",
       "L 845 3283 \n",
       "L 346 3283 \n",
       "L 346 0 \n",
       "z\n",
       "\" id=\"GuardianSansCond-Regular-72\" transform=\"scale(0.015625)\"/>\n",
       "      <path d=\"M 570 -1261 \n",
       "C 1082 -1261 1306 -960 1485 -365 \n",
       "L 2592 3283 \n",
       "L 2067 3283 \n",
       "L 1485 1197 \n",
       "C 1421 992 1376 787 1376 787 \n",
       "L 1363 787 \n",
       "C 1363 787 1331 928 1248 1203 \n",
       "L 621 3283 \n",
       "L 51 3283 \n",
       "L 1120 13 \n",
       "L 1018 -294 \n",
       "C 896 -698 749 -826 480 -826 \n",
       "C 384 -826 262 -813 186 -800 \n",
       "L 186 -1171 \n",
       "C 282 -1222 435 -1261 570 -1261 \n",
       "z\n",
       "\" id=\"GuardianSansCond-Regular-79\" transform=\"scale(0.015625)\"/>\n",
       "     </defs>\n",
       "     <use xlink:href=\"#GuardianSansCond-Regular-53\"/>\n",
       "     <use x=\"42.199997\" xlink:href=\"#GuardianSansCond-Regular-75\"/>\n",
       "     <use x=\"87.699982\" xlink:href=\"#GuardianSansCond-Regular-6d\"/>\n",
       "     <use x=\"157.199966\" xlink:href=\"#GuardianSansCond-Regular-6d\"/>\n",
       "     <use x=\"226.699951\" xlink:href=\"#GuardianSansCond-Regular-61\"/>\n",
       "     <use x=\"267.599945\" xlink:href=\"#GuardianSansCond-Regular-72\"/>\n",
       "     <use x=\"296.399933\" xlink:href=\"#GuardianSansCond-Regular-79\"/>\n",
       "     <use x=\"337.799927\" xlink:href=\"#GuardianSansCond-Regular-20\"/>\n",
       "     <use x=\"353.599915\" xlink:href=\"#GuardianSansCond-Regular-54\"/>\n",
       "     <use x=\"398.099899\" xlink:href=\"#GuardianSansCond-Regular-6f\"/>\n",
       "     <use x=\"443.69989\" xlink:href=\"#GuardianSansCond-Regular-6b\"/>\n",
       "     <use x=\"485.199875\" xlink:href=\"#GuardianSansCond-Regular-65\"/>\n",
       "     <use x=\"527.899872\" xlink:href=\"#GuardianSansCond-Regular-6e\"/>\n",
       "     <use x=\"573.999863\" xlink:href=\"#GuardianSansCond-Regular-20\"/>\n",
       "     <use x=\"589.79985\" xlink:href=\"#GuardianSansCond-Regular-4c\"/>\n",
       "     <use x=\"631.599838\" xlink:href=\"#GuardianSansCond-Regular-65\"/>\n",
       "     <use x=\"674.299835\" xlink:href=\"#GuardianSansCond-Regular-6e\"/>\n",
       "     <use x=\"720.399826\" xlink:href=\"#GuardianSansCond-Regular-67\"/>\n",
       "     <use x=\"763.099823\" xlink:href=\"#GuardianSansCond-Regular-74\"/>\n",
       "     <use x=\"792.099808\" xlink:href=\"#GuardianSansCond-Regular-68\"/>\n",
       "    </g>\n",
       "   </g>\n",
       "  </g>\n",
       " </g>\n",
       " <defs>\n",
       "  <clipPath id=\"p2dbc2aca47\">\n",
       "   <rect height=\"178.08\" width=\"315.8725\" x=\"54.24875\" y=\"23.7705\"/>\n",
       "  </clipPath>\n",
       "  <clipPath id=\"p5ef0d16bad\">\n",
       "   <rect height=\"178.08\" width=\"315.8725\" x=\"386.58125\" y=\"23.7705\"/>\n",
       "  </clipPath>\n",
       " </defs>\n",
       "</svg>\n"
      ],
      "text/plain": [
       "<Figure size 720x252 with 2 Axes>"
      ]
     },
     "metadata": {
      "needs_background": "light"
     },
     "output_type": "display_data"
    }
   ],
   "source": [
    "d_len = [len(tokenizer.encode(s)) for s in dataset_samsum[\"train\"][\"dialogue\"]]\n",
    "s_len = [len(tokenizer.encode(s)) for s in dataset_samsum[\"train\"][\"summary\"]]\n",
    "\n",
    "fig, axes = plt.subplots(1, 2, figsize=(10, 3.5), sharey=True)\n",
    "axes[0].hist(d_len, bins=20, color=\"C0\", edgecolor=\"C0\")\n",
    "axes[0].set_title(\"Dialogue Token Length\")\n",
    "axes[0].set_xlabel(\"Length\")\n",
    "axes[0].set_ylabel(\"Count\")\n",
    "axes[1].hist(s_len, bins=20, color=\"C0\", edgecolor=\"C0\")\n",
    "axes[1].set_title(\"Summary Token Length\")\n",
    "axes[1].set_xlabel(\"Length\")\n",
    "plt.tight_layout()\n",
    "plt.show()"
   ]
  },
  {
   "cell_type": "code",
   "execution_count": null,
   "metadata": {},
   "outputs": [],
   "source": [
    "#hide_output\n",
    "def convert_examples_to_features(example_batch):\n",
    "    input_encodings = tokenizer(example_batch[\"dialogue\"], max_length=1024,\n",
    "                                truncation=True)\n",
    "    \n",
    "    with tokenizer.as_target_tokenizer():\n",
    "        target_encodings = tokenizer(example_batch[\"summary\"], max_length=128,\n",
    "                                     truncation=True)\n",
    "    \n",
    "    return {\"input_ids\": input_encodings[\"input_ids\"],\n",
    "            \"attention_mask\": input_encodings[\"attention_mask\"],\n",
    "            \"labels\": target_encodings[\"input_ids\"]}\n",
    "\n",
    "dataset_samsum_pt = dataset_samsum.map(convert_examples_to_features, \n",
    "                                       batched=True)\n",
    "columns = [\"input_ids\", \"labels\", \"attention_mask\"]\n",
    "dataset_samsum_pt.set_format(type=\"torch\", columns=columns)"
   ]
  },
  {
   "cell_type": "code",
   "execution_count": null,
   "metadata": {},
   "outputs": [
    {
     "data": {
      "text/html": [
       "<div>\n",
       "<style scoped>\n",
       "    .dataframe tbody tr th:only-of-type {\n",
       "        vertical-align: middle;\n",
       "    }\n",
       "\n",
       "    .dataframe tbody tr th {\n",
       "        vertical-align: top;\n",
       "    }\n",
       "\n",
       "    .dataframe thead th {\n",
       "        text-align: right;\n",
       "    }\n",
       "</style>\n",
       "<table border=\"1\" class=\"dataframe\">\n",
       "  <thead>\n",
       "    <tr style=\"text-align: right;\">\n",
       "      <th></th>\n",
       "      <th>decoder_input</th>\n",
       "      <th>label</th>\n",
       "    </tr>\n",
       "    <tr>\n",
       "      <th>step</th>\n",
       "      <th></th>\n",
       "      <th></th>\n",
       "    </tr>\n",
       "  </thead>\n",
       "  <tbody>\n",
       "    <tr>\n",
       "      <th>1</th>\n",
       "      <td>[PAD]</td>\n",
       "      <td>Transformers</td>\n",
       "    </tr>\n",
       "    <tr>\n",
       "      <th>2</th>\n",
       "      <td>[PAD, Transformers]</td>\n",
       "      <td>are</td>\n",
       "    </tr>\n",
       "    <tr>\n",
       "      <th>3</th>\n",
       "      <td>[PAD, Transformers, are]</td>\n",
       "      <td>awesome</td>\n",
       "    </tr>\n",
       "    <tr>\n",
       "      <th>4</th>\n",
       "      <td>[PAD, Transformers, are, awesome]</td>\n",
       "      <td>for</td>\n",
       "    </tr>\n",
       "    <tr>\n",
       "      <th>5</th>\n",
       "      <td>[PAD, Transformers, are, awesome, for]</td>\n",
       "      <td>text</td>\n",
       "    </tr>\n",
       "    <tr>\n",
       "      <th>6</th>\n",
       "      <td>[PAD, Transformers, are, awesome, for, text]</td>\n",
       "      <td>summarization</td>\n",
       "    </tr>\n",
       "  </tbody>\n",
       "</table>\n",
       "</div>"
      ],
      "text/plain": [
       "                                     decoder_input          label\n",
       "step                                                             \n",
       "1                                            [PAD]   Transformers\n",
       "2                              [PAD, Transformers]            are\n",
       "3                         [PAD, Transformers, are]        awesome\n",
       "4                [PAD, Transformers, are, awesome]            for\n",
       "5           [PAD, Transformers, are, awesome, for]           text\n",
       "6     [PAD, Transformers, are, awesome, for, text]  summarization"
      ]
     },
     "execution_count": null,
     "metadata": {},
     "output_type": "execute_result"
    }
   ],
   "source": [
    "#hide_input\n",
    "\n",
    "#id teacher-forcing\n",
    "#alt Decoder input and label alignemt for text generation.\n",
    "#caption Decoder input and label alignemt for text generation.\n",
    "text = ['PAD','Transformers', 'are', 'awesome', 'for', 'text', 'summarization']\n",
    "rows = []\n",
    "for i in range(len(text)-1):\n",
    "    rows.append({'step': i+1, 'decoder_input': text[:i+1], 'label': text[i+1]})\n",
    "pd.DataFrame(rows).set_index('step')"
   ]
  },
  {
   "cell_type": "code",
   "execution_count": null,
   "metadata": {},
   "outputs": [],
   "source": [
    "from transformers import DataCollatorForSeq2Seq\n",
    "\n",
    "seq2seq_data_collator = DataCollatorForSeq2Seq(tokenizer, model=model)"
   ]
  },
  {
   "cell_type": "code",
   "execution_count": null,
   "metadata": {},
   "outputs": [],
   "source": [
    "from transformers import TrainingArguments, Trainer\n",
    "\n",
    "training_args = TrainingArguments(\n",
    "    output_dir='pegasus-samsum', num_train_epochs=1, warmup_steps=500,\n",
    "    per_device_train_batch_size=1, per_device_eval_batch_size=1,\n",
    "    weight_decay=0.01, logging_steps=10, push_to_hub=True,\n",
    "    evaluation_strategy='steps', eval_steps=500, save_steps=1e6,\n",
    "    gradient_accumulation_steps=16)"
   ]
  },
  {
   "cell_type": "code",
   "execution_count": null,
   "metadata": {},
   "outputs": [
    {
     "data": {
      "application/vnd.jupyter.widget-view+json": {
       "model_id": "04f65c507a094c53a28628b65aad0b0b",
       "version_major": 2,
       "version_minor": 0
      },
      "text/plain": [
       "VBox(children=(HTML(value=\"<center>\\n<img src=https://huggingface.co/front/assets/huggingface_logo-noborder.sv…"
      ]
     },
     "metadata": {},
     "output_type": "display_data"
    }
   ],
   "source": [
    "#hide_output\n",
    "from huggingface_hub import notebook_login\n",
    "\n",
    "notebook_login()"
   ]
  },
  {
   "cell_type": "code",
   "execution_count": null,
   "metadata": {},
   "outputs": [],
   "source": [
    "# hide_output\n",
    "trainer = Trainer(model=model, args=training_args,\n",
    "                  tokenizer=tokenizer, data_collator=seq2seq_data_collator,\n",
    "                  train_dataset=dataset_samsum_pt[\"train\"], \n",
    "                  eval_dataset=dataset_samsum_pt[\"validation\"])"
   ]
  },
  {
   "cell_type": "code",
   "execution_count": null,
   "metadata": {},
   "outputs": [],
   "source": [
    "# hide_output\n",
    "trainer.train()\n",
    "score = evaluate_summaries_pegasus(\n",
    "    dataset_samsum[\"test\"], rouge_metric, trainer.model, tokenizer,\n",
    "    batch_size=2, column_text=\"dialogue\", column_summary=\"summary\")\n",
    "\n",
    "rouge_dict = dict((rn, score[rn].mid.fmeasure) for rn in rouge_names)\n",
    "pd.DataFrame(rouge_dict, index=[f\"pegasus\"])"
   ]
  },
  {
   "cell_type": "code",
   "execution_count": null,
   "metadata": {},
   "outputs": [
    {
     "data": {
      "text/html": [
       "<div>\n",
       "<style scoped>\n",
       "    .dataframe tbody tr th:only-of-type {\n",
       "        vertical-align: middle;\n",
       "    }\n",
       "\n",
       "    .dataframe tbody tr th {\n",
       "        vertical-align: top;\n",
       "    }\n",
       "\n",
       "    .dataframe thead th {\n",
       "        text-align: right;\n",
       "    }\n",
       "</style>\n",
       "<table border=\"1\" class=\"dataframe\">\n",
       "  <thead>\n",
       "    <tr style=\"text-align: right;\">\n",
       "      <th></th>\n",
       "      <th>rouge1</th>\n",
       "      <th>rouge2</th>\n",
       "      <th>rougeL</th>\n",
       "      <th>rougeLsum</th>\n",
       "    </tr>\n",
       "  </thead>\n",
       "  <tbody>\n",
       "    <tr>\n",
       "      <th>pegasus</th>\n",
       "      <td>0.427614</td>\n",
       "      <td>0.200571</td>\n",
       "      <td>0.340648</td>\n",
       "      <td>0.340738</td>\n",
       "    </tr>\n",
       "  </tbody>\n",
       "</table>\n",
       "</div>"
      ],
      "text/plain": [
       "           rouge1    rouge2    rougeL  rougeLsum\n",
       "pegasus  0.427614  0.200571  0.340648   0.340738"
      ]
     },
     "execution_count": null,
     "metadata": {},
     "output_type": "execute_result"
    }
   ],
   "source": [
    "# hide_input\n",
    "pd.DataFrame(rouge_dict, index=[f\"pegasus\"])"
   ]
  },
  {
   "cell_type": "code",
   "execution_count": null,
   "metadata": {},
   "outputs": [
    {
     "name": "stderr",
     "output_type": "stream",
     "text": [
      "Saving model checkpoint to pegasus-samsum-test\n",
      "Configuration saved in pegasus-samsum-test/config.json\n",
      "Model weights saved in pegasus-samsum-test/pytorch_model.bin\n",
      "tokenizer config file saved in pegasus-samsum-test/tokenizer_config.json\n",
      "Special tokens file saved in pegasus-samsum-test/special_tokens_map.json\n",
      "Dropping the following result as it does not have all the necessary field:\n",
      "{'task': {'name': 'Sequence-to-sequence Language Modeling', 'type': 'text2text-generation'}, 'dataset': {'name': 'samsum', 'type': 'samsum', 'args': 'samsum'}}\n"
     ]
    },
    {
     "data": {
      "text/plain": [
       "'https://huggingface.co/lvwerra/pegasus-samsum-test/commit/236684ab026115ad5b9eb61f6ddbdaf3f07bddf8'"
      ]
     },
     "execution_count": null,
     "metadata": {},
     "output_type": "execute_result"
    }
   ],
   "source": [
    "# hide_output\n",
    "trainer.push_to_hub(\"Training complete!\")"
   ]
  },
  {
   "cell_type": "markdown",
   "metadata": {},
   "source": [
    "### Generating Dialogue Summaries"
   ]
  },
  {
   "cell_type": "code",
   "execution_count": null,
   "metadata": {},
   "outputs": [],
   "source": [
    "# hide\n",
    "import transformers\n",
    "transformers.logging.set_verbosity_error()"
   ]
  },
  {
   "cell_type": "code",
   "execution_count": null,
   "metadata": {},
   "outputs": [
    {
     "name": "stdout",
     "output_type": "stream",
     "text": [
      "Dialogue:\n",
      "Hannah: Hey, do you have Betty's number?\n",
      "Amanda: Lemme check\n",
      "Hannah: <file_gif>\n",
      "Amanda: Sorry, can't find it.\n",
      "Amanda: Ask Larry\n",
      "Amanda: He called her last time we were at the park together\n",
      "Hannah: I don't know him well\n",
      "Hannah: <file_gif>\n",
      "Amanda: Don't be shy, he's very nice\n",
      "Hannah: If you say so..\n",
      "Hannah: I'd rather you texted him\n",
      "Amanda: Just text him 🙂\n",
      "Hannah: Urgh.. Alright\n",
      "Hannah: Bye\n",
      "Amanda: Bye bye\n",
      "\n",
      "Reference Summary:\n",
      "Hannah needs Betty's number but Amanda doesn't have it. She needs to contact\n",
      "Larry.\n",
      "\n",
      "Model Summary:\n",
      "Amanda can't find Betty's number. Larry called Betty last time they were at the\n",
      "park together. Hannah wants Amanda to text Larry instead of calling Betty.\n"
     ]
    }
   ],
   "source": [
    "gen_kwargs = {\"length_penalty\": 0.8, \"num_beams\":8, \"max_length\": 128}\n",
    "sample_text = dataset_samsum[\"test\"][0][\"dialogue\"]\n",
    "reference = dataset_samsum[\"test\"][0][\"summary\"]\n",
    "pipe = pipeline(\"summarization\", model=\"transformersbook/pegasus-samsum\")\n",
    "\n",
    "print(\"Dialogue:\")\n",
    "print(sample_text)\n",
    "print(\"\\nReference Summary:\")\n",
    "print(reference)\n",
    "print(\"\\nModel Summary:\")\n",
    "print(pipe(sample_text, **gen_kwargs)[0][\"summary_text\"])"
   ]
  },
  {
   "cell_type": "code",
   "execution_count": null,
   "metadata": {},
   "outputs": [
    {
     "name": "stdout",
     "output_type": "stream",
     "text": [
      "Thom, Lewis and Leandro are going to write a book about transformers. Thom\n",
      "helped build a library by Hugging Face. They are going to do it together.\n"
     ]
    }
   ],
   "source": [
    "custom_dialogue = \"\"\"\\\n",
    "Thom: Hi guys, have you heard of transformers?\n",
    "Lewis: Yes, I used them recently!\n",
    "Leandro: Indeed, there is a great library by Hugging Face.\n",
    "Thom: I know, I helped build it ;)\n",
    "Lewis: Cool, maybe we should write a book about it. What do you think?\n",
    "Leandro: Great idea, how hard can it be?!\n",
    "Thom: I am in!\n",
    "Lewis: Awesome, let's do it together!\n",
    "\"\"\"\n",
    "print(pipe(custom_dialogue, **gen_kwargs)[0][\"summary_text\"])"
   ]
  },
  {
   "cell_type": "markdown",
   "metadata": {},
   "source": [
    "## Conclusion"
   ]
  }
 ],
 "metadata": {
  "kernelspec": {
   "display_name": "PyTorch-GPU-2.5.1",
   "language": "python",
   "name": "pytorch-gpu"
  },
  "language_info": {
   "codemirror_mode": {
    "name": "ipython",
    "version": 3
   },
   "file_extension": ".py",
   "mimetype": "text/x-python",
   "name": "python",
   "nbconvert_exporter": "python",
   "pygments_lexer": "ipython3",
   "version": "3.12.8"
  }
 },
 "nbformat": 4,
 "nbformat_minor": 4
}
